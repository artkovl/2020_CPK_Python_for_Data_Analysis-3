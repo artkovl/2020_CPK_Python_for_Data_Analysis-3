{
 "cells": [
  {
   "cell_type": "markdown",
   "metadata": {},
   "source": [
    "Программа повышения квалификации (научно-педагогических) работников НИУ ВШЭ\n",
    "\n",
    "# Python для исследователей\n",
    "\n",
    "# Задачи # 3\n",
    "\n",
    "*Авторы: Татьяна Рогович*"
   ]
  },
  {
   "cell_type": "markdown",
   "metadata": {},
   "source": [
    "## 1. Количество различных чисел (списки и множества)\n",
    "\n",
    "Дан список чисел, который может содержать до 100000 чисел. Определите, сколько в нем встречается различных чисел.\n",
    "\n",
    "#### Пример 1\n",
    "\n",
    "##### Ввод\t\n",
    "\n",
    "1 2 3 2 1\n",
    "\n",
    "##### Вывод\n",
    "\n",
    "3\n",
    "\n",
    "#### Пример 2\n",
    "##### Ввод\t\n",
    "\n",
    "1 2 3 4 5 1 2 1 2 7 3\n",
    "\n",
    "##### Вывод\n",
    "6"
   ]
  },
  {
   "cell_type": "code",
   "execution_count": 1,
   "metadata": {},
   "outputs": [
    {
     "name": "stdout",
     "output_type": "stream",
     "text": [
      "6\n"
     ]
    }
   ],
   "source": [
    "# (∩｀-´)⊃━☆ﾟ.*･｡ﾟ\n",
    "lst = input().split()\n",
    "print(len(set(lst)))"
   ]
  },
  {
   "cell_type": "markdown",
   "metadata": {},
   "source": [
    "## 2. Факультативы (множества)\n",
    "Группа из 3 студентов пишет заявки на желаемые факультативы из списка: английский, немецкий, право, математика, сольфеджио. Факультатив откроют, если на него запишутся все студенты. Каждый студент может выбрать минимум один и максимум три факультатива. Нужно посчитать количество факультативов, которые откроются.\n",
    "\n",
    "*Пример*\n",
    "\n",
    "**Ввод:**\n",
    "\n",
    "английский сольфеджио право  \n",
    "математика сольфеджио  \n",
    "немецкий право\n",
    "\n",
    "**Вывод:**\n",
    "\n",
    "0\n",
    "\n",
    "**Ввод:**\n",
    "\n",
    "математика немецкий право  \n",
    "математика немецкий  \n",
    "немецкий право математика \n",
    "\n",
    "**Вывод:**  \n",
    "2"
   ]
  },
  {
   "cell_type": "code",
   "execution_count": 2,
   "metadata": {},
   "outputs": [
    {
     "name": "stdout",
     "output_type": "stream",
     "text": [
      "2\n"
     ]
    }
   ],
   "source": [
    "# считываем значения для каждого студента. input() принимает на ввод строку вида 'немецкий право математика'\n",
    "# split() разбивает ее по пробелам и делает из нее список вида ['немецкий', 'право', 'математика'] (каждое слово, отделенное пробелом, стало объектом в нем)\n",
    "# set() из этого списка делает множество (уникальные предметы, которые выбрал студент)\n",
    "stud1 = set(input().split())\n",
    "stud2 = set(input().split())\n",
    "stud3 = set(input().split())\n",
    "print(len(stud1 & stud2 & stud3)) # находим пересечение трех множеств (факультативы, которые общие для всех трех студентов) и смотрим, сколько объектов в этом множестве (len())\n"
   ]
  },
  {
   "cell_type": "markdown",
   "metadata": {},
   "source": [
    "Давайте модифицируем эту задачу, и представим, что только два студента выбирают факультативы, откроются факультативы, которые выбрал, хотя бы один студент. Но затем выясняется, что один из факультативов из списка отменили. Выводить будет через запятую те факультативы, которые откроются.\n",
    "\n",
    "*Пример*  \n",
    "**Ввод:**\n",
    "\n",
    "математика немецкий право  \n",
    "математика английский  \n",
    "право\n",
    "\n",
    "**Вывод:**  \n",
    "математика, немецкий, английский"
   ]
  },
  {
   "cell_type": "code",
   "execution_count": 3,
   "metadata": {},
   "outputs": [
    {
     "name": "stdout",
     "output_type": "stream",
     "text": [
      "а, м, н\n"
     ]
    }
   ],
   "source": [
    "# решение 1\n",
    "stud1 = set(input().split())\n",
    "stud2 = set(input().split())\n",
    "cancelled = input()\n",
    "\n",
    "opened = (stud1 | stud2)\n",
    "opened.discard(cancelled)\n",
    "print(*opened, sep=', ')"
   ]
  },
  {
   "cell_type": "code",
   "execution_count": 4,
   "metadata": {},
   "outputs": [
    {
     "name": "stdout",
     "output_type": "stream",
     "text": [
      "а, м, н\n"
     ]
    }
   ],
   "source": [
    "# решение 2\n",
    "stud1 = set(input().split())\n",
    "stud2 = set(input().split())\n",
    "cancelled = set([input()])\n",
    "\n",
    "opened = (stud1 | stud2) - cancelled\n",
    "print(*opened, sep=', ')"
   ]
  },
  {
   "cell_type": "markdown",
   "metadata": {},
   "source": [
    "## 3. Вложенные словари\n",
    "\n",
    "Вам дан словарь, содержащий в себе списки словарей. Напишите код, который выведет на экран 'разработчик' из списка ключа Windows в в первом словаре из списка 2."
   ]
  },
  {
   "cell_type": "code",
   "execution_count": 5,
   "metadata": {},
   "outputs": [
    {
     "data": {
      "text/plain": [
       "'разработчик'"
      ]
     },
     "execution_count": 5,
     "metadata": {},
     "output_type": "execute_result"
    }
   ],
   "source": [
    "dict_of_lists = {'Список1': [{'Python': 'язык программирования'}, {'R':'язык программирования', 'LaTEX' : 'язык верстки' }], \n",
    "                 'Список2' : [{'Windows' : ['операционная система', 'разработчик'], 'UNIX' : 'операционная система'},\n",
    "                              {'IBM': ['компания-производитель', 'разработчик'], 'IPv6' : 'интернет-протокол' }]}\n",
    "\n",
    "# ваше решение здесь\n",
    "dict_of_lists['Список2'][0]['Windows'][1]"
   ]
  },
  {
   "cell_type": "markdown",
   "metadata": {},
   "source": [
    "## 4. Лесенка\n",
    "\n",
    "На вход принимается число N. \n",
    "\n",
    "Выведите на печать следующий паттерн с помощью цикла for:\n",
    "\n",
    "1\n",
    "\n",
    "1 2\n",
    "\n",
    "1 2 3\n",
    "\n",
    "1 2 3 4\n",
    "\n",
    "...\n",
    "\n",
    "1 ... N"
   ]
  },
  {
   "cell_type": "code",
   "execution_count": 6,
   "metadata": {},
   "outputs": [
    {
     "name": "stdout",
     "output_type": "stream",
     "text": [
      "\n",
      "1\n",
      "1 2\n",
      "1 2 3\n",
      "1 2 3 4\n",
      "1 2 3 4 5\n",
      "1 2 3 4 5 6\n",
      "1 2 3 4 5 6 7\n",
      "1 2 3 4 5 6 7 8\n"
     ]
    }
   ],
   "source": [
    "# ваше решение здесь\n",
    "n = int(input())\n",
    "\n",
    "for i in range(n+1):\n",
    "    print(*[x for x in range(1,i+1)])"
   ]
  },
  {
   "cell_type": "markdown",
   "metadata": {},
   "source": [
    "## 5. Замена букв\n",
    "\n",
    "Дана строка. Замените в ней все буквы А на # с помощью спискового включения.\n"
   ]
  },
  {
   "cell_type": "code",
   "execution_count": 7,
   "metadata": {},
   "outputs": [
    {
     "data": {
      "text/plain": [
       "'#Б#ЖУР, #Б#ЗИНСКИЙ, #Б#ЗИНЫ, #ББ#Т, #ББ#ТИС#, #ББ#ТСТВО'"
      ]
     },
     "execution_count": 7,
     "metadata": {},
     "output_type": "execute_result"
    }
   ],
   "source": [
    "phrase = \"АБАЖУР, АБАЗИНСКИЙ, АБАЗИНЫ, АББАТ, АББАТИСА, АББАТСТВО\"\n",
    "# ваше решение здесь\n",
    "''.join(['#' if i == 'А' else i for i in phrase])"
   ]
  },
  {
   "cell_type": "markdown",
   "metadata": {},
   "source": [
    "## 6. Считаем письма\n",
    "Давайте теперь поработаем с настоящим файлом и действительно посчитаем в нем слова. Мы загрузим метаданные почтового сервера университета Мичигана. И попробуем найти, с какого адреса ушло больше всего писем. Автор письма находится в строке, которая начинается с 'From '.\n",
    "\n",
    "Бонус: выведите все адреса и количество отправленных писем, отсортированных по возрастанию количества писем"
   ]
  },
  {
   "cell_type": "code",
   "execution_count": 9,
   "metadata": {},
   "outputs": [],
   "source": [
    "# импортируем библиотеку для доступа к файлам в интернете\n",
    "import requests\n",
    "# в переменной mbox хранится текст для работы\n",
    "mbox = requests.get('http://www.py4inf.com/code/mbox.txt').text"
   ]
  },
  {
   "cell_type": "code",
   "execution_count": 11,
   "metadata": {},
   "outputs": [
    {
     "name": "stdout",
     "output_type": "stream",
     "text": [
      "zqian@umich.edu 195\n"
     ]
    }
   ],
   "source": [
    "# ваше решение здесь\n",
    "lines = mbox.split('\\n')\n",
    "emails = {}\n",
    "\n",
    "for line in lines:\n",
    "    if line.startswith('From '):\n",
    "        email = line.split()[1]\n",
    "        if email in emails:\n",
    "            emails[email] += 1\n",
    "        else:\n",
    "            emails[email] = 1\n",
    "            \n",
    "# выводим человека, который больше всего пишет\n",
    "for email in emails:\n",
    "    if emails[email] == max(emails.values()):\n",
    "        print(email, emails[email])\n"
   ]
  },
  {
   "cell_type": "code",
   "execution_count": 12,
   "metadata": {},
   "outputs": [
    {
     "name": "stdout",
     "output_type": "stream",
     "text": [
      "jlrenfro@ucdavis.edu 1\n",
      "thoppaymallika@fhda.edu 1\n",
      "colin.clark@utoronto.ca 1\n",
      "jleasia@umich.edu 2\n",
      "gbhatnag@umich.edu 3\n",
      "bahollad@indiana.edu 4\n",
      "knoop@umich.edu 5\n",
      "ssmail@indiana.edu 5\n",
      "tnguyen@iupui.edu 6\n",
      "hu2@iupui.edu 7\n",
      "lance@indiana.edu 8\n",
      "john.ellis@rsmart.com 8\n",
      "ggolden@umich.edu 8\n",
      "jzaremba@unicon.net 9\n",
      "mbreuker@loi.nl 9\n",
      "ktsao@stanford.edu 12\n",
      "a.fish@lancaster.ac.uk 14\n",
      "kimsooil@bu.edu 14\n",
      "stuart.freeman@et.gatech.edu 17\n",
      "zach.thomas@txstate.edu 17\n",
      "ostermmg@whitman.edu 17\n",
      "antranig@caret.cam.ac.uk 18\n",
      "csev@umich.edu 19\n",
      "louis@media.berkeley.edu 24\n",
      "gopal.ramasammycook@gmail.com 25\n",
      "bkirschn@umich.edu 27\n",
      "arwhyte@umich.edu 27\n",
      "gsilver@umich.edu 28\n",
      "josrodri@iupui.edu 28\n",
      "nuno@ufp.pt 28\n",
      "stephen.marquard@uct.ac.za 29\n",
      "ray@media.berkeley.edu 32\n",
      "sgithens@caret.cam.ac.uk 43\n",
      "wagnermr@iupui.edu 44\n",
      "gjthomas@iupui.edu 44\n",
      "ajpoland@iupui.edu 48\n",
      "david.horwitz@uct.ac.za 67\n",
      "dlhaines@umich.edu 84\n",
      "rjlowe@iupui.edu 90\n",
      "jimeng@umich.edu 93\n",
      "ian@caret.cam.ac.uk 96\n",
      "aaronz@vt.edu 110\n",
      "chmaurer@iupui.edu 111\n",
      "cwen@iupui.edu 158\n",
      "mmmay@indiana.edu 161\n",
      "zqian@umich.edu 195\n"
     ]
    }
   ],
   "source": [
    "# выводим все адреса по возрастанию количества отправленных писем\n",
    "for value in sorted(set(emails.values())):\n",
    "    for email in emails:\n",
    "        if emails[email] == value:\n",
    "            print(email, emails[email])"
   ]
  },
  {
   "cell_type": "markdown",
   "metadata": {},
   "source": [
    "### 7. Считаем метрику spam\n",
    "Работаем с тем же файлом. У каждого письма есть метрика X-DSPAM-Confidence - уверенность фильтра в том, что это письмо не спам. Нужно посчитать среднее значение этой метрики для всей переписки."
   ]
  },
  {
   "cell_type": "code",
   "execution_count": 13,
   "metadata": {},
   "outputs": [
    {
     "name": "stdout",
     "output_type": "stream",
     "text": [
      "Average X-DSPAM-Confidence: 0.8941\n"
     ]
    }
   ],
   "source": [
    "# импортируем библиотеку для доступа к файлам в интернете\n",
    "import requests\n",
    "# в переменной mbox хранится текст для работы\n",
    "mbox = requests.get('http://www.py4inf.com/code/mbox.txt').text\n",
    "# ваше решение здесь\n",
    "\n",
    "lines = mbox.split('\\n')\n",
    "spam = []\n",
    "\n",
    "for line in lines:\n",
    "    if line.startswith('X-DSPAM-Confidence'):\n",
    "        spam.append(float(line.split()[1]))\n",
    "        \n",
    "print(f'Average X-DSPAM-Confidence: {round(sum(spam)/len(spam), 4)}')"
   ]
  },
  {
   "cell_type": "markdown",
   "metadata": {},
   "source": [
    "## 8. Объединение словарей\n",
    "\n",
    "Напишите программу, которая объединяет значения из двух списков.\n",
    "\n",
    "Ввод:\n",
    "\n",
    "    shops = [{'товар': 'яблоки', 'количество': 400}, {'товар': 'конфеты', 'количество': 300}, {'товар': 'яблоки', 'количество': 750}]\n",
    "\n",
    "\n",
    "Вывод:\n",
    "\n",
    "    {'яблоки': 1150, 'конфеты': 300}"
   ]
  },
  {
   "cell_type": "code",
   "execution_count": 15,
   "metadata": {},
   "outputs": [],
   "source": [
    "shops = [{'товар': 'яблоки', 'количество': 400}, \n",
    "         {'товар': 'конфеты', 'количество': 300}, \n",
    "         {'товар': 'яблоки', 'количество': 750}]"
   ]
  },
  {
   "cell_type": "code",
   "execution_count": 16,
   "metadata": {},
   "outputs": [
    {
     "name": "stdout",
     "output_type": "stream",
     "text": [
      "{'яблоки': 1150, 'конфеты': 300}\n"
     ]
    }
   ],
   "source": [
    "# ваше решение здесь\n",
    "total = {}\n",
    "for shop in shops:\n",
    "    total[shop['товар']] = total.get(shop['товар'], 0) + shop['количество']\n",
    "    \n",
    "print(total)"
   ]
  },
  {
   "cell_type": "markdown",
   "metadata": {},
   "source": [
    "## 9. Range\n",
    "\n",
    "Найти все числа от 100 до 300 включительно, все цифры которых четные.\n",
    "\n",
    "Программа должна выдавать результат в виде разделенной запятыми строки"
   ]
  },
  {
   "cell_type": "code",
   "execution_count": 18,
   "metadata": {},
   "outputs": [
    {
     "name": "stdout",
     "output_type": "stream",
     "text": [
      "100,102,104,106,108,110,112,114,116,118,120,122,124,126,128,130,132,134,136,138,140,142,144,146,148,150,152,154,156,158,160,162,164,166,168,170,172,174,176,178,180,182,184,186,188,190,192,194,196,198,200,202,204,206,208,210,212,214,216,218,220,222,224,226,228,230,232,234,236,238,240,242,244,246,248,250,252,254,256,258,260,262,264,266,268,270,272,274,276,278,280,282,284,286,288,290,292,294,296,298,300\n"
     ]
    }
   ],
   "source": [
    "# ваше решение здесь\n",
    "print(*range(100, 301, 2), sep=',')"
   ]
  },
  {
   "cell_type": "markdown",
   "metadata": {},
   "source": [
    "## 9. Считаем буквы и цифры \n",
    "\n",
    "Найти количество цифр и количество букв в строке\n",
    "\n",
    "Вход: \"абв532гд 2в34\"\n",
    "\n",
    "\n",
    "Выход:\n",
    "\n",
    "    Цифры: 6\n",
    "    Буквы: 6"
   ]
  },
  {
   "cell_type": "code",
   "execution_count": 21,
   "metadata": {},
   "outputs": [
    {
     "name": "stdout",
     "output_type": "stream",
     "text": [
      "6\n",
      "6\n"
     ]
    }
   ],
   "source": [
    "letters = 0\n",
    "digits = 0\n",
    "\n",
    "for symbol in \"абв532гд 2в34\":\n",
    "    if symbol.isdigit():\n",
    "        digits += 1\n",
    "    elif symbol.isalpha():\n",
    "        letters += 1\n",
    "        \n",
    "print(letters)\n",
    "print(digits)"
   ]
  },
  {
   "cell_type": "markdown",
   "metadata": {},
   "source": [
    "# 10. Плэйлист\n",
    "\n",
    "У Васи есть плейлист. Необходимо сгруппировать названия песен по исполнителям. \n",
    "Необходимо вывести исполнителей и песни, отсортированные по алфавиту \n",
    "\n",
    "**Формат ввода:**\n",
    "\n",
    "Список исполнителей и песен в следующем формате:\n",
    "\n",
    "* Число исполнителей\n",
    "* Имя исполнителя: название песни 1, название песни 2 и т.д. \n",
    "* Имя каждого исполнителя и его песен вводится с новой строки \n",
    "* Названия песен перечислены через запятую \n",
    "\n",
    "**Формат вывода:**\n",
    "\n",
    "Список исполнителей и песен, сгруппированных по исполнителю:\n",
    "\n",
    "* Имя исполнителя: название песни 1, название песни 2 и т.д. \n",
    "* Имя каждого исполнителя и его песен вводится с новой строки \n",
    "* Названия песен перечислены через запятую \n",
    "\n",
    "*Пример:*\n",
    "\n",
    "**Ввод:**\n",
    "\n",
    "3\n",
    "\n",
    "Queen: bohemian rhapsody, a kind of magic \n",
    "\n",
    "The beatles: and I love her \n",
    "\n",
    "Queen: the show must go on, bohemian rhapsody\n",
    "\n",
    "**Вывод:**\n",
    "\n",
    "Queen: a kind of magic, bohemian rhapsody, the show must go on\n",
    "\n",
    "The beatles: and I love her"
   ]
  },
  {
   "cell_type": "code",
   "execution_count": 30,
   "metadata": {},
   "outputs": [
    {
     "name": "stdout",
     "output_type": "stream",
     "text": [
      "The beatles: and I love her \n",
      "Queen: a kind of magic , the show must go on, bohemian rhapsody\n"
     ]
    }
   ],
   "source": [
    "# ваше решение здесь\n",
    "n = int(input())\n",
    "music = {}\n",
    "\n",
    "for line in range(n):\n",
    "    item = input()\n",
    "    singer, songs = item.split(': ')\n",
    "    if singer in music:\n",
    "        music[singer] |= set(songs.split(', '))\n",
    "    else:\n",
    "        music[singer] = set(songs.split(', '))\n",
    "        \n",
    "for key in music:\n",
    "    print(f'{key}: {\", \".join(music[key])}')"
   ]
  },
  {
   "cell_type": "markdown",
   "metadata": {},
   "source": [
    "# 11. Оценки\n",
    " \n",
    "**Пункт 1**  \n",
    "Вам дан словарь с именами студентов и их оценками за курс по десятибаллной шкале. Напишите программу, которая бы считала среднюю оценку за курс и округляла ее (используйте функцию round()). Чтобы найти среднюю оценку нужно сложить оценки всех студентов за курс и разделить сумму на количество студентов. Найти сумму элементов списка, можно функцией sum(). Так, первый курс - это нулевой элемент списка оценок каждого студента.\n",
    "\n",
    "Программа должна приниматься на ввод номер курса (от 1 до 8, обратите внимание, что не от 0 до 7), а выводить среднюю оценку за этот курс. \n",
    "\n",
    "**Пример ввода:**\n",
    "\n",
    "1\n",
    "\n",
    "**Пример вывода:**\n",
    "\n",
    "Курс 1 - 4\n"
   ]
  },
  {
   "cell_type": "code",
   "execution_count": 31,
   "metadata": {},
   "outputs": [
    {
     "name": "stdout",
     "output_type": "stream",
     "text": [
      "Курс 1 - 4\n"
     ]
    }
   ],
   "source": [
    "marks = {'Mary' : [5, 8, 9, 10, 3, 5, 6, 6],\n",
    "         'John' : [3, 3, 6, 8, 2, 1, 8, 5],\n",
    "         'Alex' : [4, 4, 7, 4, 7, 3, 2, 9],\n",
    "         'Patricia' : [2, 1, 6, 8, 2, 3, 7, 4]}\n",
    "\n",
    "categories = {'отлично' : [8, 9, 10],\n",
    "              'хорошо' : [6, 7],\n",
    "              'удовлетворительно' : [4, 5],\n",
    "              'неуд' : [0, 1, 2, 3]}\n",
    "\n",
    "# Ваш код здесь\n",
    "course = int(input('Введите номер курса от 1 до 8: ')) - 1\n",
    "\n",
    "av = []\n",
    "for student in marks:\n",
    "    av.append(marks[student][course])\n",
    "    \n",
    "print(f'Курс {course + 1} - {round(sum(av)/len(av))}')"
   ]
  },
  {
   "cell_type": "markdown",
   "metadata": {},
   "source": [
    "**Пункт 2**  \n",
    "Напишите программу, которая бы сопостовляла оценку, найденную в предыдущем пункте, со вторым словарем, где оценкам в числах соответсвуют категории \"хорошо\", \"отлично\" и так далее. Программа принимает на ввод номер курса (от 1 до 8, обратите внимание, что не от 0 до 7), подсчитывает среднюю оценку за этот курс, а выводит буквенное значение оценки от \"неуд\" до \"отлично\" из словаря categories\n",
    "\n",
    "**Пример ввода** \n",
    "\n",
    "1\n",
    "\n",
    "**Пример вывода:**\n",
    "\n",
    "Курс 1 - удовлетворительно\n"
   ]
  },
  {
   "cell_type": "code",
   "execution_count": 33,
   "metadata": {},
   "outputs": [
    {
     "name": "stdout",
     "output_type": "stream",
     "text": [
      "Курс 1 - удовлетворительно\n"
     ]
    }
   ],
   "source": [
    "marks = {'Mary' : [5, 8, 9, 10, 3, 5, 6, 6],\n",
    "         'John' : [3, 3, 6, 8, 2, 1, 8, 5],\n",
    "         'Alex' : [4, 4, 7, 4, 7, 3, 2, 9],\n",
    "         'Patricia' : [2, 1, 6, 8, 2, 3, 7, 4]}\n",
    "\n",
    "categories = {'отлично' : [8, 9, 10],\n",
    "              'хорошо' : [6, 7],\n",
    "              'удовлетворительно' : [4, 5],\n",
    "              'неуд' : [0, 1, 2, 3]}\n",
    "\n",
    "# Ваш код здесь\n",
    "course = int(input('Введите номер курса от 1 до 8: ')) - 1\n",
    "\n",
    "av = []\n",
    "for student in marks:\n",
    "    av.append(marks[student][course])\n",
    "    \n",
    "mark_av = round(sum(av)/len(av))\n",
    "\n",
    "for key in categories:\n",
    "    if mark_av in categories[key]:\n",
    "        print(f'Курс {course + 1} - {key}')"
   ]
  },
  {
   "cell_type": "markdown",
   "metadata": {},
   "source": [
    "**Пункт 3**  \n",
    "Напишите программу, которая бы считала, сколько всего в словаре оценок, которые выше или равны определенному баллу.\n",
    "\n",
    "Программа должна принимает на ввод оценку, а выводит количество оценок во всем словаре, которые больше этой оценки или равны ей. \n",
    "\n",
    "**Пример ввода:**\n",
    "\n",
    "5\n",
    "\n",
    "**Пример вывода:**\n",
    "\n",
    "17\n"
   ]
  },
  {
   "cell_type": "code",
   "execution_count": 34,
   "metadata": {},
   "outputs": [
    {
     "name": "stdout",
     "output_type": "stream",
     "text": [
      "17\n"
     ]
    }
   ],
   "source": [
    "marks = {'Mary' : [5, 8, 9, 10, 3, 5, 6, 6],\n",
    "         'John' : [3, 3, 6, 8, 2, 1, 8, 5],\n",
    "         'Alex' : [4, 4, 7, 4, 7, 3, 2, 9],\n",
    "         'Patricia' : [2, 1, 6, 8, 2, 3, 7, 4]}\n",
    "\n",
    "categories = {'отлично' : [8, 9, 10],\n",
    "              'хорошо' : [6, 7],\n",
    "              'удовлетворительно' : [4, 5],\n",
    "              'неуд' : [0, 1, 2, 3]}\n",
    "\n",
    "# ваш код здесь\n",
    "mark = int(input())\n",
    "total = 0\n",
    "\n",
    "for student in marks:\n",
    "    for i in marks[student]:\n",
    "        if i >= mark:\n",
    "            total += 1\n",
    "            \n",
    "print(total)\n"
   ]
  },
  {
   "cell_type": "markdown",
   "metadata": {},
   "source": [
    "# 12. Скидки в \"Магнолии\"\n",
    "\n",
    "В магазине \"Магнолия\" проходит акция - даются скидки на товары, название которых начинается на заданную букву.\n",
    "\n",
    "У Маши есть список покупок, состоящий из строк вида \"цена, название, количество\". Помогите ей посчитать, сколько денег она сэкономит (общую сумму скидки).\n",
    "\n",
    "Количество записей в Машином списке покупок может быть любым. Каждая запись вводится с новой строки. Записи вводятся до тех пор, пока пользователь не введет \"Конец списка\". После этого одной строкой вводится буква, по которой сегодня определяется скидка. Если название продукта начинается на заданную букву, то на этот продукт действует скидка 15 процентов.\n",
    "\n",
    "Образец вывода смотрите в примере. Если ни на один товар скидка не действует, то программа должна вывести \"Скидка: 0 рублей\"\n",
    "\n",
    "*Вы считали категории в список списков, где каждая строка выглядит как в образце  - 1 балл*  \n",
    "`[цена (int), название (str), количество (int)]`  \n",
    "Например, `[120, мандарины (1 кг), 2]`\n",
    "\n",
    "**Пример ввода**  \n",
    "120 руб., мандарины (1 кг), 2 кг.  \n",
    "70 руб., молоко, 3 пакета  \n",
    "15 руб., батон сдобный, 1 штука  \n",
    "345 руб., белое вино, 1 бутылка  \n",
    "120 руб., моцарелла, 2 упаковки  \n",
    "Конец списка  \n",
    "м  \n",
    "\n",
    "**Вывод**\n",
    "\n",
    "Cкидка: 103.5 руб.\n"
   ]
  },
  {
   "cell_type": "code",
   "execution_count": 35,
   "metadata": {},
   "outputs": [
    {
     "name": "stdout",
     "output_type": "stream",
     "text": [
      "[[120, 'мандарины (1 кг)', '2'], [70, 'молоко', '3'], [15, 'батон сдобный', '1'], [345, 'белое вино', '1'], [120, 'моцарелла', '2']] м\n"
     ]
    }
   ],
   "source": [
    "# ваше решение здесь\n",
    "item = input()\n",
    "shopping_list = []\n",
    "\n",
    "while item != 'Конец списка':\n",
    "    temp = []\n",
    "    temp.append(int(item.split(', ')[0].split()[0]))\n",
    "    temp.append(item.split(', ')[1])\n",
    "    temp.append(item.split(', ')[2].split()[0])\n",
    "    shopping_list.append(temp)\n",
    "    item = input()\n",
    "    \n",
    "letter = input()\n",
    "print(shopping_list, letter)"
   ]
  },
  {
   "cell_type": "code",
   "execution_count": 36,
   "metadata": {},
   "outputs": [
    {
     "name": "stdout",
     "output_type": "stream",
     "text": [
      "Скидка: 103.5 руб.\n"
     ]
    }
   ],
   "source": [
    "discount = 0\n",
    "for item in shopping_list:\n",
    "    if item[1].startswith(letter):\n",
    "        discount += item[0]*int(item[2])*0.15\n",
    "        \n",
    "print(f'Скидка: {discount} руб.')"
   ]
  }
 ],
 "metadata": {
  "kernelspec": {
   "display_name": "Python 3",
   "language": "python",
   "name": "python3"
  },
  "language_info": {
   "codemirror_mode": {
    "name": "ipython",
    "version": 3
   },
   "file_extension": ".py",
   "mimetype": "text/x-python",
   "name": "python",
   "nbconvert_exporter": "python",
   "pygments_lexer": "ipython3",
   "version": "3.6.5"
  }
 },
 "nbformat": 4,
 "nbformat_minor": 2
}
