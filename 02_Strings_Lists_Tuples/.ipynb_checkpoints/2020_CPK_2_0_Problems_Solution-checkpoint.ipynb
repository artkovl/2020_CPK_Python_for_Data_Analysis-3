{
 "cells": [
  {
   "cell_type": "markdown",
   "metadata": {},
   "source": [
    "Программа повышения квалификации (научно-педагогических) работников НИУ ВШЭ\n",
    "\n",
    "# Python для исследователей\n",
    "\n",
    "*Авторы: Татьяна Рогович, Алла Тамбовцева, НИУ ВШЭ*\n",
    "\n",
    "## Вычисления, переменные, приведение типов, форматирование строк\n",
    "\n",
    "*Примечание: под программой в заданиях подразумевается просто блок работающего кода, который выполняет нужную задачу. Для удобства можно считать, что одна ячейка с кодом – это одна программа.* \n",
    "\n"
   ]
  },
  {
   "cell_type": "markdown",
   "metadata": {},
   "source": [
    "### Задание 0 (вычислительное)\n",
    "\n",
    "Посчитайте:\n",
    "\n",
    "* $\\log(25)$, $\\log(\\exp(3))$, $\\log_{10}1000$;\n",
    "* $\\pi^3$, $123^4$; \n",
    "* $\\sqrt{459}$."
   ]
  },
  {
   "cell_type": "code",
   "execution_count": 1,
   "metadata": {},
   "outputs": [
    {
     "name": "stdout",
     "output_type": "stream",
     "text": [
      "3.2188758248682006\n",
      "3.0\n",
      "2.9999999999999996\n",
      "3.0\n",
      "31.006276680299816\n",
      "228886641\n",
      "21.42428528562855\n",
      "21.42428528562855\n"
     ]
    }
   ],
   "source": [
    "import math\n",
    "\n",
    "# пункт 1\n",
    "print(math.log(25))\n",
    "print(math.log(math.exp(3)))\n",
    "print(math.log(1000, 10))  # на самом деле ровно 3 – опять история про формат float\n",
    "print(math.log10(1000))  # альтернатива строке выше\n",
    "\n",
    "# пункт 2\n",
    "print(math.pi ** 3)\n",
    "print(123 ** 4)\n",
    "\n",
    "# пункт 3\n",
    "print(math.sqrt(459))\n",
    "print(459 ** 0.5)  # альтернатива коду выше"
   ]
  },
  {
   "cell_type": "markdown",
   "metadata": {},
   "source": [
    "### Задание 1\n",
    "\n",
    "В переменных `a` и `b` хранятся некоторые числа. Напишите код, который бы менял значения переменных местами. Создавать вспомогательные переменные *можно*.\n",
    "\n",
    "**Пример:**"
   ]
  },
  {
   "cell_type": "code",
   "execution_count": 3,
   "metadata": {},
   "outputs": [],
   "source": [
    "# до\n",
    "a = 2\n",
    "b = 5"
   ]
  },
  {
   "cell_type": "code",
   "execution_count": 2,
   "metadata": {},
   "outputs": [
    {
     "name": "stdout",
     "output_type": "stream",
     "text": [
      "5\n",
      "2\n"
     ]
    }
   ],
   "source": [
    "# после\n",
    "print(a)\n",
    "print(b)"
   ]
  },
  {
   "cell_type": "code",
   "execution_count": 4,
   "metadata": {},
   "outputs": [
    {
     "name": "stdout",
     "output_type": "stream",
     "text": [
      "5\n",
      "2\n"
     ]
    }
   ],
   "source": [
    "c = a\n",
    "a = b\n",
    "b = c\n",
    "print(a)\n",
    "print(b)"
   ]
  },
  {
   "cell_type": "code",
   "execution_count": 5,
   "metadata": {},
   "outputs": [
    {
     "name": "stdout",
     "output_type": "stream",
     "text": [
      "5 2\n"
     ]
    }
   ],
   "source": [
    "# Еще в Python можно решить эту задачу через множественное присваивание, без создания третьей переменной:\n",
    "a = 2\n",
    "b = 5\n",
    "a, b = b, a\n",
    "print(a, b)"
   ]
  },
  {
   "cell_type": "markdown",
   "metadata": {},
   "source": [
    "### Задание 2\n",
    "\n",
    "Напишите программу, которая логарифмирует значение ВВП 109361, которое хранится в переменной `gdp` и округляет результат до второго знака после запятой."
   ]
  },
  {
   "cell_type": "code",
   "execution_count": 7,
   "metadata": {},
   "outputs": [
    {
     "data": {
      "text/plain": [
       "11.6"
      ]
     },
     "execution_count": 7,
     "metadata": {},
     "output_type": "execute_result"
    }
   ],
   "source": [
    "# ваше решение здесь\n",
    "gdp = 109361\n",
    "log_gdp = round(math.log(gdp), 2) \n",
    "log_gdp"
   ]
  },
  {
   "cell_type": "markdown",
   "metadata": {},
   "source": [
    "### Задание 3\n",
    "\n",
    "В переменной `fh` хранится значение индекса политической свободы *Freedom House* 20, а в переменной `p`\n",
    "значение индекса *Polity IV* 4. Напишите программу, которая будет считать индекс `Freedom`:\n",
    "\n",
    "$$\n",
    "\\text{Freedom} = 0.4 \\cdot \\text{Freedom House} + 0.6 \\cdot \\text{Polity IV}\n",
    "$$"
   ]
  },
  {
   "cell_type": "code",
   "execution_count": 8,
   "metadata": {},
   "outputs": [
    {
     "name": "stdout",
     "output_type": "stream",
     "text": [
      "10.4\n"
     ]
    }
   ],
   "source": [
    "fh = 20\n",
    "p = 4\n",
    "Freedom = 0.4 * fh + 0.6 * p\n",
    "print(Freedom)"
   ]
  },
  {
   "cell_type": "markdown",
   "metadata": {},
   "source": [
    "### Задание 4\n",
    "\n",
    "С приходом весны питон решил каждый день выползать погреться на солнышко. Однако он знал, что солнце весной довольно активное, и поэтому разработал такую схему: в первый день он греется одну минуту, а в каждый последующий день увеличивает время пребывания на солнце на 3 минуты. Напишите код, который позволит вычислять, сколько минут питон будет тратить на солнечные ванны в некоторый выбранный день.\n",
    "\n",
    "Нужно решить эту задачу без повторного запуска ячейки и при этом без цикла, предполагая, что пользователь с клавиатуры вводит номер интересующего его дня, а на экран выводится соответствующее число минут."
   ]
  },
  {
   "cell_type": "code",
   "execution_count": 10,
   "metadata": {},
   "outputs": [
    {
     "name": "stdout",
     "output_type": "stream",
     "text": [
      "Enter day number: 4\n",
      "10\n"
     ]
    }
   ],
   "source": [
    "# запрашиваем номер дня у пользователя и выводим результат – число минут\n",
    "n = int(input(\"Enter day number: \"))\n",
    "res = 1 + 3 * (n - 1)\n",
    "print(res)"
   ]
  },
  {
   "cell_type": "markdown",
   "metadata": {},
   "source": [
    "### Задание 5\n",
    "\n",
    "Напишите программу, которая запрашивает у пользователя имя и фамилию и выводит на экран сообщение "
   ]
  },
  {
   "cell_type": "markdown",
   "metadata": {},
   "source": [
    "```Имя Фамилия```, добро пожаловать!"
   ]
  },
  {
   "cell_type": "code",
   "execution_count": 11,
   "metadata": {},
   "outputs": [
    {
     "name": "stdout",
     "output_type": "stream",
     "text": [
      "Enter name: Alla\n",
      "Enter surname: T\n"
     ]
    }
   ],
   "source": [
    "name = input(\"Enter name: \")\n",
    "surname = input(\"Enter surname: \")"
   ]
  },
  {
   "cell_type": "code",
   "execution_count": 15,
   "metadata": {},
   "outputs": [
    {
     "name": "stdout",
     "output_type": "stream",
     "text": [
      "Alla T, добро пожаловать!\n",
      "Alla T, добро пожаловать!\n",
      "Alla T, добро пожаловать!\n"
     ]
    }
   ],
   "source": [
    "# решение 1 – без форматирования строк, но с выбором разделителя\n",
    "print(name, \" \", surname, \", добро пожаловать!\", sep=\"\")\n",
    "\n",
    "# решение 2 – с f-строками\n",
    "print(f\"{name} {surname}, добро пожаловать!\")\n",
    "\n",
    "# решение 3 – с «классическим» форматированием строк\n",
    "print(\"%s %s, добро пожаловать!\" %(name, surname))"
   ]
  },
  {
   "cell_type": "markdown",
   "metadata": {},
   "source": [
    "### Задание 6\n",
    "\n",
    "Напишите программу, которая запрашивает у пользователя с клавиатуры его рост в сантиметрах, его вес в килограммах (каждый показатель – с новой строки, в новом запросе) и выводит на экран сообщение вида:\n",
    "\n",
    "    Индекс массы тела: [значение].\n",
    "    \n",
    "где вместо `[значение]` подставляется посчитанное значение индекса массы тела. \n",
    "\n",
    "Индекс массы тела считается так:\n",
    "\n",
    "$$\n",
    "\\text{BMI} = \\text{m} / \\text{h}^2, \n",
    "$$\n",
    "\n",
    "где `m` – масса тела в килограммах, `h` – рост *в метрах*."
   ]
  },
  {
   "cell_type": "code",
   "execution_count": 16,
   "metadata": {},
   "outputs": [
    {
     "name": "stdout",
     "output_type": "stream",
     "text": [
      "Enter your height: 168\n",
      "Enter your weight: 65\n"
     ]
    }
   ],
   "source": [
    "height = int(input(\"Enter your height: \"))\n",
    "weight = int(input(\"Enter your weight: \"))\n",
    "bmi = weight / (height / 100) ** 2"
   ]
  },
  {
   "cell_type": "code",
   "execution_count": 17,
   "metadata": {},
   "outputs": [
    {
     "name": "stdout",
     "output_type": "stream",
     "text": [
      "Индекс массы тела: 23.03.\n",
      "Индекс массы тела: 23.03.\n",
      "Индекс массы тела: 23.03.\n"
     ]
    }
   ],
   "source": [
    "# решение 1 – без форматирования строк, но с выбором разделителя\n",
    "print(\"Индекс массы тела: \", round(bmi,2), \".\", sep=\"\")\n",
    "\n",
    "# решение 2 – с f-строками\n",
    "print(f\"Индекс массы тела: {round(bmi,2)}.\")\n",
    "\n",
    "# решение 3 – с «классическим» форматированием строк\n",
    "print(\"Индекс массы тела: %.2f.\" %bmi)"
   ]
  },
  {
   "cell_type": "markdown",
   "metadata": {},
   "source": [
    "## Задание 7\n",
    "\n",
    "Дан кортеж`student = ('Иван Питонов', 2001, [8, 7, 7, 9, 6], True)`. Выполните пункты ниже. Все выводы должны быть в формате \"Средний балл студента: {средний балл}\"\n",
    "\n",
    "1. Выведите фамилию и имя Ивана в формате \"Студент: {Фамилия}, {Имя}\"\n",
    "2. Выведите возраст Ивана, если сейчас 2020 год.\n",
    "3. Напечатайте оценки Ивана через запятую (не список, а числа через запятую).\n",
    "1. Найдите средний балл Ивана, если оценки хранятся в списке внутри кортежа. Сумму элементов списка можно найти с помощью функции sum(). Выведите средний балл, округленный до одного знака после запятой.\n",
    "3. Если средняя оценка Ивана больше или равна 8 и он учится на бюджете (последний элемент списка, True - бюджет), то он получает повышенную стипендию. Выведите True или False."
   ]
  },
  {
   "cell_type": "code",
   "execution_count": 21,
   "metadata": {},
   "outputs": [
    {
     "name": "stdout",
     "output_type": "stream",
     "text": [
      "Студент: Питонов, Иван\n",
      "Возраст: 19\n",
      "Оценки: 8,7,7,9,6\n",
      "Оценки: 8,7,7,9,6\n",
      "Средний балл студента: 7.4\n",
      "Повышенная стипендия: False\n"
     ]
    }
   ],
   "source": [
    "# ваше решение здесь\n",
    "\n",
    "student = ('Иван Питонов', 2001, [8, 7, 7, 9, 6], True)\n",
    "\n",
    "average =  sum(student[2]) / len(student[2])\n",
    "print(f'Студент: {student[0].split()[1]}, {student[0].split()[0]}')\n",
    "print(f'Возраст: {2020 - student[1]}')\n",
    "\n",
    "# Оценки через распаковку\n",
    "print('Оценки: ', end = '')\n",
    "print(*student[2], sep=',')\n",
    "\n",
    "# И оценки через join\n",
    "print(f'Оценки: {\",\".join(map(str, student[-2]))}')\n",
    "\n",
    "print(f'Средний балл студента: {average}')\n",
    "print(f'Повышенная стипендия: {average >= 8 and student[-1]}')"
   ]
  },
  {
   "cell_type": "markdown",
   "metadata": {},
   "source": [
    "## Задание 8\n",
    "Дан список `numbers = [1, 1000, 1002124, 25, 10, 20, 351]`. Выполните следующие шаги. Для сортировок пользуйтесь функцией sorted().\n",
    "\n",
    "1. Отсортируйте этот список по возрастанию и сохраните результат в переменную numbers_int_sorted\n",
    "2. На основе оригинального списка numbers с помощью функции map создайте новый список, где вместо каждого числа будет строка ('1', '1000' и т.д.) и сохраните его в переменную numbers_str\n",
    "3. Отсортируйте список numbers_str по возрастанию и сохраните результат в переменную numbers_str_sorted\n",
    "4. Отсортийте список numbers_str по возрастанию с помощью ключа, который перед сортировкой представляет строки в виде целых чисел, и сохраните результат в переменную numbers_str_key_sorted\n",
    "5. Выведите три отсортированных списка. Есть ли среди них одинаковые? Почему?\n",
    "\n"
   ]
  },
  {
   "cell_type": "code",
   "execution_count": 22,
   "metadata": {},
   "outputs": [
    {
     "name": "stdout",
     "output_type": "stream",
     "text": [
      "[1, 10, 20, 25, 351, 1000, 1002124]\n",
      "['1', '10', '1000', '1002124', '20', '25', '351']\n",
      "['1', '10', '20', '25', '351', '1000', '1002124']\n"
     ]
    }
   ],
   "source": [
    "# ваше решение здесь\n",
    "numbers = [1, 1000, 1002124, 25, 10, 20, 351]\n",
    "numbers_ints_sorted = sorted(numbers)\n",
    "print(numbers_ints_sorted)\n",
    "numbers_str = list(map(str, numbers))\n",
    "numbers_str_sorted = sorted(numbers_str)\n",
    "print(numbers_str_sorted)\n",
    "numbers_str_key_sorted = sorted(numbers_str, key=int)\n",
    "print(numbers_str_key_sorted)"
   ]
  }
 ],
 "metadata": {
  "kernelspec": {
   "display_name": "Python 3",
   "language": "python",
   "name": "python3"
  },
  "language_info": {
   "codemirror_mode": {
    "name": "ipython",
    "version": 3
   },
   "file_extension": ".py",
   "mimetype": "text/x-python",
   "name": "python",
   "nbconvert_exporter": "python",
   "pygments_lexer": "ipython3",
   "version": "3.6.5"
  }
 },
 "nbformat": 4,
 "nbformat_minor": 2
}
