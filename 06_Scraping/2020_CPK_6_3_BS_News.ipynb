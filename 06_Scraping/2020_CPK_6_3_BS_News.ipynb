{
 "cells": [
  {
   "cell_type": "markdown",
   "metadata": {},
   "source": [
    "Программа повышения квалификации (научно-педагогических) работников НИУ ВШЭ\n",
    "\n",
    "# Python для исследователей\n",
    "\n",
    "*Автор: Алла Тамбовцева, НИУ ВШЭ*  \n",
    "\n",
    "## Web-scraping: скрэйпинг новостного сайта"
   ]
  },
  {
   "cell_type": "markdown",
   "metadata": {},
   "source": [
    "Мы уже немного познакомились со структурой html-файлов, теперь попробуем выгрузить информацию из реальной страницы, а точнее, с реального сайта [nplus1.ru](https://nplus1.ru/).\n",
    "\n",
    "**Наша задача:** выгрузить недавние новости в датафрейм `pandas`, чтобы потом сохранить все в csv-файл.\n",
    "\n",
    "Сначала сгрузим весь html-код страницы и сохраним его в отдельную переменную. Для этого нам понадобится библиотека `requests`. Импортируем её:"
   ]
  },
  {
   "cell_type": "code",
   "execution_count": 1,
   "metadata": {},
   "outputs": [],
   "source": [
    "import requests"
   ]
  },
  {
   "cell_type": "markdown",
   "metadata": {},
   "source": [
    "Сохраним ссылку на главную страницу сайта в переменную `url` для удобства и выгрузим страницу. (Разумеется, это будет работать при подключении к интернету. Если соединение будет отключено, Python выдаст `NewConnectionError`)."
   ]
  },
  {
   "cell_type": "code",
   "execution_count": 2,
   "metadata": {},
   "outputs": [],
   "source": [
    "url = 'https://nplus1.ru/' # сохраняем\n",
    "page = requests.get(url) # загружаем страницу по ссылке"
   ]
  },
  {
   "cell_type": "markdown",
   "metadata": {},
   "source": [
    "Если мы просто посмотрим на объект, мы ничего особенного не увидим:"
   ]
  },
  {
   "cell_type": "code",
   "execution_count": 3,
   "metadata": {},
   "outputs": [
    {
     "data": {
      "text/plain": [
       "<Response [200]>"
      ]
     },
     "execution_count": 3,
     "metadata": {},
     "output_type": "execute_result"
    }
   ],
   "source": [
    "page  # response 200 - страница загружена"
   ]
  },
  {
   "cell_type": "markdown",
   "metadata": {},
   "source": [
    "Импортируем функцию `BeautifulSoup` из библиотеки `bs4` (от *beautifulsoup4*) и заберём со страницы `page` код html в виде текста. "
   ]
  },
  {
   "cell_type": "code",
   "execution_count": 4,
   "metadata": {},
   "outputs": [],
   "source": [
    "from bs4 import BeautifulSoup  # не спрашивайте, почему BeautifulSoup"
   ]
  },
  {
   "cell_type": "code",
   "execution_count": 5,
   "metadata": {},
   "outputs": [],
   "source": [
    "soup = BeautifulSoup(page.text, 'lxml')"
   ]
  },
  {
   "cell_type": "markdown",
   "metadata": {},
   "source": [
    "Если выведем `soup` на экран, мы увидим то же самое, что в режиме разработчика или в режиме происмотра исходного кода (`view-source` через *Ctrl+U* в Google Chrome)."
   ]
  },
  {
   "cell_type": "code",
   "execution_count": 6,
   "metadata": {},
   "outputs": [],
   "source": [
    "# soup"
   ]
  },
  {
   "cell_type": "markdown",
   "metadata": {},
   "source": [
    "Для просмотра выглядит не очень удобно.  «Причешем» наш `soup` – воспользуемся методом `.prettify()` в сочетании с функцией `print()`."
   ]
  },
  {
   "cell_type": "code",
   "execution_count": 7,
   "metadata": {},
   "outputs": [],
   "source": [
    "# print(soup.prettify())"
   ]
  },
  {
   "cell_type": "markdown",
   "metadata": {},
   "source": [
    "В такой выдаче ориентироваться гораздо удобнее (но при желании, то же можно увидеть в браузере, на большом экране)."
   ]
  },
  {
   "cell_type": "markdown",
   "metadata": {},
   "source": [
    "Чтобы сгрузить все новости с главной страницы сайта, нужно собрать все ссылки на страницы с этими новостями. Ссылки в html-файле всегда заключены в тэг `<a></a>` и имеют атрибут `href`. Посмотрим на кусочки кода, соответствующие всем ссылкам на главной странице сайта:"
   ]
  },
  {
   "cell_type": "code",
   "execution_count": 6,
   "metadata": {},
   "outputs": [
    {
     "name": "stdout",
     "output_type": "stream",
     "text": [
      "#\n",
      "/\n",
      "#\n",
      "#\n",
      "/rubric/astronomy\n",
      "/rubric/physics\n",
      "/rubric/biology\n",
      "/rubric/robots-drones\n",
      "/theme/explainatorium\n",
      "/theme/bookshelf\n",
      "/theme/nobelprize\n",
      "/theme/Courses\n",
      "/theme/coronavirus-history\n",
      "/\n",
      "#\n",
      "/rubric/astronomy\n",
      "/rubric/physics\n",
      "/rubric/biology\n",
      "/rubric/robots-drones\n",
      "#\n",
      "/theme/explainatorium\n",
      "/theme/bookshelf\n",
      "/theme/nobelprize\n",
      "/theme/Courses\n",
      "/theme/coronavirus-history\n",
      "https://nplus1.ru/blog/2020/10/08/the-science-of-staying-well\n",
      "https://nplus1.ru/blog/2020/10/08/the-science-of-staying-well\n",
      "https://nplus1.ru/blog/2020/10/07/fight-for-freedom-in-the-don-region\n",
      "https://nplus1.ru/blog/2020/10/01/october-2020-observations\n",
      "https://nplus1.ru/blog/2020/09/30/in-search-of-constantinople\n",
      "https://nplus1.ru/blog/2020/09/28/the-hungry-steppe\n",
      "https://nplus1.ru/blog/2020/09/24/nobel-prediction\n",
      "https://nplus1.ru/blog/2020/09/18/formations-of-the-secular\n",
      "https://nplus1.ru/blog/2020/09/15/the-hidden-history-of-animal-life\n",
      "https://nplus1.ru/blog/2020/09/11/who-we-are-and-how-we-got-here\n",
      "https://nplus1.ru/blog/2020/10/09/marriage-and-extramarital-life\n",
      "/news/2020/10/10/choka\n",
      "/news/2020/10/10/bone-marrow-gene-silencing\n",
      "/news/2020/10/10/cephalopod-inspired-robot\n",
      "/news/2020/10/10/metallization-of-diamond\n",
      "/news/2020/10/10/occupy-molerat\n",
      "/news/2020/10/09/ancient-ball\n",
      "/news/2020/10/09/drone-drop\n",
      "/material/2020/10/09/chumakov-sarscov-vaccine\n",
      "/rubric/medicine\n",
      "/theme/coronavirus-history\n",
      "/news/2020/10/09/paper-picturers\n",
      "/rubric/mezzanine\n",
      "/news/2020/10/09/viruses-bats\n",
      "/news/2020/10/09/u-2-kubernetes\n",
      "/news/2020/10/09/3d-metal\n",
      "/news/2020/10/09/crispr-vs-covid\n",
      "/news/2020/10/09/aircarrier\n",
      "/news/2020/10/09/bahamas-birds-extinction\n",
      "/blog/2020/10/08/the-science-of-staying-well\n",
      "/blog/2020/10/09/marriage-and-extramarital-life\n",
      "/material/2020/10/07/nobel-chem-2020\n",
      "/rubric/biology\n",
      "/theme/nobelprize\n",
      "/material/2020/10/06/physics-nobel-2020\n",
      "/rubric/physics\n",
      "/theme/nobelprize\n",
      "/news/2020/10/09/magneto-thomson-effect\n",
      "/news/2020/10/09/better-cryoEM\n",
      "/news/2020/10/09/hapsmobile\n",
      "/news/2020/10/08/gmo-wheat-argentine\n",
      "/news/2020/10/08/strange-b-meson-asymmetry\n",
      "/news/2020/10/08/calcium-fly-trap\n",
      "/blog/2020/10/01/quakers-to-the-rescue\n",
      "/blog/2020/10/01/october-2020-observations\n",
      "/material/2020/10/06/soft-skills-are-hard\n",
      "/rubric/partners\n",
      "/material/2020/10/05/phisiomed-nobel-2020\n",
      "/rubric/biology\n",
      "/theme/nobelprize\n",
      "/material/2020/10/06/soft-skills-are-hard\n",
      "/material/2020/10/06/physics-nobel-2020\n",
      "/news/2020/10/08/strange-b-meson-asymmetry\n",
      "/news/2020/10/09/magneto-thomson-effect\n",
      "/news/2020/10/09/better-cryoEM\n",
      "/material/2020/10/07/nobel-chem-2020\n",
      "/material/2020/10/05/phisiomed-nobel-2020\n",
      "/news/2020/10/07/aurora-a-shredding\n",
      "/news/2020/10/07/nanofountain\n",
      "/material/2020/10/09/chumakov-sarscov-vaccine\n",
      "https://nplus1.ru/blog/2020/10/08/the-science-of-staying-well\n",
      "https://nplus1.ru/blog/2020/10/08/the-science-of-staying-well\n",
      "https://nplus1.ru/blog/2020/10/07/fight-for-freedom-in-the-don-region\n",
      "https://nplus1.ru/blog/2020/10/01/october-2020-observations\n",
      "https://nplus1.ru/blog/2020/09/30/in-search-of-constantinople\n",
      "https://nplus1.ru/blog/2020/09/28/the-hungry-steppe\n",
      "https://nplus1.ru/blog/2020/09/24/nobel-prediction\n",
      "https://nplus1.ru/blog/2020/09/18/formations-of-the-secular\n",
      "https://nplus1.ru/blog/2020/09/15/the-hidden-history-of-animal-life\n",
      "https://nplus1.ru/blog/2020/09/11/who-we-are-and-how-we-got-here\n",
      "https://nplus1.ru/blog/2020/10/09/marriage-and-extramarital-life\n",
      "/\n",
      "/about\n",
      "/adv\n",
      "/rules\n",
      "/vacancy\n",
      "/difficult\n",
      "https://nplus1.ru/personal-data-policy\n",
      "#\n",
      "https://t.me/nplusone\n",
      "http://vk.com/nplusone\n",
      "https://www.facebook.com/nplusone\n",
      "https://twitter.com/nplusodin\n",
      "https://ok.ru/nplus1\n",
      "https://soundcloud.com/nplus_1\n",
      "/rss\n"
     ]
    }
   ],
   "source": [
    "for link in soup.find_all('a'):\n",
    "    print(link.get('href'))"
   ]
  },
  {
   "cell_type": "markdown",
   "metadata": {},
   "source": [
    "Ссылок много. Но нам нужны только новости – ссылки, которые начинаются со слова `/news`. Добавим условие: будем выбирать только те ссылки, в которых есть `/news`. Создадим пустой список `urls` и будем добавлять в него только ссылки, которые удовлетворяют этому условию."
   ]
  },
  {
   "cell_type": "code",
   "execution_count": 7,
   "metadata": {},
   "outputs": [
    {
     "data": {
      "text/plain": [
       "['/news/2020/10/10/choka',\n",
       " '/news/2020/10/10/bone-marrow-gene-silencing',\n",
       " '/news/2020/10/10/cephalopod-inspired-robot',\n",
       " '/news/2020/10/10/metallization-of-diamond',\n",
       " '/news/2020/10/10/occupy-molerat',\n",
       " '/news/2020/10/09/ancient-ball',\n",
       " '/news/2020/10/09/drone-drop',\n",
       " '/news/2020/10/09/paper-picturers',\n",
       " '/news/2020/10/09/viruses-bats',\n",
       " '/news/2020/10/09/u-2-kubernetes',\n",
       " '/news/2020/10/09/3d-metal',\n",
       " '/news/2020/10/09/crispr-vs-covid',\n",
       " '/news/2020/10/09/aircarrier',\n",
       " '/news/2020/10/09/bahamas-birds-extinction',\n",
       " '/news/2020/10/09/magneto-thomson-effect',\n",
       " '/news/2020/10/09/better-cryoEM',\n",
       " '/news/2020/10/09/hapsmobile',\n",
       " '/news/2020/10/08/gmo-wheat-argentine',\n",
       " '/news/2020/10/08/strange-b-meson-asymmetry',\n",
       " '/news/2020/10/08/calcium-fly-trap',\n",
       " '/news/2020/10/08/strange-b-meson-asymmetry',\n",
       " '/news/2020/10/09/magneto-thomson-effect',\n",
       " '/news/2020/10/09/better-cryoEM',\n",
       " '/news/2020/10/07/aurora-a-shredding',\n",
       " '/news/2020/10/07/nanofountain']"
      ]
     },
     "execution_count": 7,
     "metadata": {},
     "output_type": "execute_result"
    }
   ],
   "source": [
    "urls = []\n",
    "\n",
    "for link in soup.find_all('a'):\n",
    "    if '/news' in link.get('href'):\n",
    "        urls.append(link.get('href'))\n",
    "urls"
   ]
  },
  {
   "cell_type": "markdown",
   "metadata": {},
   "source": [
    "Ссылки, которые у нас есть в списке `urls`, относительные: они неполные, начало ссылки (название сайта) отсутствует. Давайте превратим их в абсолютные ‒ склеим с ссылкой https://nplus1.ru."
   ]
  },
  {
   "cell_type": "code",
   "execution_count": 8,
   "metadata": {},
   "outputs": [
    {
     "data": {
      "text/plain": [
       "['https://nplus1.ru/news/2020/10/10/choka',\n",
       " 'https://nplus1.ru/news/2020/10/10/bone-marrow-gene-silencing',\n",
       " 'https://nplus1.ru/news/2020/10/10/cephalopod-inspired-robot',\n",
       " 'https://nplus1.ru/news/2020/10/10/metallization-of-diamond',\n",
       " 'https://nplus1.ru/news/2020/10/10/occupy-molerat',\n",
       " 'https://nplus1.ru/news/2020/10/09/ancient-ball',\n",
       " 'https://nplus1.ru/news/2020/10/09/drone-drop',\n",
       " 'https://nplus1.ru/news/2020/10/09/paper-picturers',\n",
       " 'https://nplus1.ru/news/2020/10/09/viruses-bats',\n",
       " 'https://nplus1.ru/news/2020/10/09/u-2-kubernetes',\n",
       " 'https://nplus1.ru/news/2020/10/09/3d-metal',\n",
       " 'https://nplus1.ru/news/2020/10/09/crispr-vs-covid',\n",
       " 'https://nplus1.ru/news/2020/10/09/aircarrier',\n",
       " 'https://nplus1.ru/news/2020/10/09/bahamas-birds-extinction',\n",
       " 'https://nplus1.ru/news/2020/10/09/magneto-thomson-effect',\n",
       " 'https://nplus1.ru/news/2020/10/09/better-cryoEM',\n",
       " 'https://nplus1.ru/news/2020/10/09/hapsmobile',\n",
       " 'https://nplus1.ru/news/2020/10/08/gmo-wheat-argentine',\n",
       " 'https://nplus1.ru/news/2020/10/08/strange-b-meson-asymmetry',\n",
       " 'https://nplus1.ru/news/2020/10/08/calcium-fly-trap',\n",
       " 'https://nplus1.ru/news/2020/10/08/strange-b-meson-asymmetry',\n",
       " 'https://nplus1.ru/news/2020/10/09/magneto-thomson-effect',\n",
       " 'https://nplus1.ru/news/2020/10/09/better-cryoEM',\n",
       " 'https://nplus1.ru/news/2020/10/07/aurora-a-shredding',\n",
       " 'https://nplus1.ru/news/2020/10/07/nanofountain']"
      ]
     },
     "execution_count": 8,
     "metadata": {},
     "output_type": "execute_result"
    }
   ],
   "source": [
    "full_urls = []\n",
    "\n",
    "for u in urls:\n",
    "    res = 'https://nplus1.ru' + u\n",
    "    full_urls.append(res) \n",
    "\n",
    "full_urls"
   ]
  },
  {
   "cell_type": "markdown",
   "metadata": {},
   "source": [
    "Теперь наша задача сводится к следующему: изучить одну страницу с новостью, научиться из нее вытаскивать текст и всю необходимую информацию, а потом применить весь набор действий к каждой ссылке из `full_urls` в цикле. Посмотрим на новость с индексом 1, у вас может быть другая, новости обновляются."
   ]
  },
  {
   "cell_type": "code",
   "execution_count": 9,
   "metadata": {},
   "outputs": [],
   "source": [
    "url0 = full_urls[1]\n",
    "\n",
    "page0 = requests.get(url0)\n",
    "soup0 = BeautifulSoup(page0.text, 'lxml')"
   ]
  },
  {
   "cell_type": "markdown",
   "metadata": {},
   "source": [
    "В коде каждой страницы с новостью есть часть с мета-информацией: датой, именем автора и проч. Такая информация окружена тэгом `<meta></meta>`. Посмотрим:"
   ]
  },
  {
   "cell_type": "code",
   "execution_count": 10,
   "metadata": {},
   "outputs": [
    {
     "data": {
      "text/plain": [
       "[<meta charset=\"utf-8\"/>,\n",
       " <meta content=\"ie=edge\" http-equiv=\"x-ua-compatible\"/>,\n",
       " <meta content=\"width=device-width, initial-scale=1\" name=\"viewport\"/>,\n",
       " <meta content=\"yes\" name=\"apple-mobile-web-app-capable\"/>,\n",
       " <meta content=\"black\" name=\"apple-mobile-web-app-status-bar-style\"/>,\n",
       " <meta content=\"2020-10-10\" itemprop=\"datePublished\"/>,\n",
       " <meta content=\"Наталия Миранда\" name=\"mediator_author\"/>,\n",
       " <meta content=\"Для этого они создали липид-полимерные наночастицы, несущие siRNA\" name=\"description\"/>,\n",
       " <meta content=\"Наталия Миранда\" name=\"author\"/>,\n",
       " <meta content=\"\" name=\"copyright\"/>,\n",
       " <meta content=\"Биоинженеры научились управлять стволовыми клетками РНК-интерференцией\" property=\"og:title\"/>,\n",
       " <meta content=\"https://nplus1.ru/images/2020/10/10/1a6f9078d039cd85e90712c3422a8e16.png\" property=\"og:image\"/>,\n",
       " <meta content=\"https://nplus1.ru/news/2020/10/10/bone-marrow-gene-silencing\" property=\"og:url\"/>,\n",
       " <meta content=\"Для этого они создали липид-полимерные наночастицы, несущие siRNA\" property=\"og:description\"/>,\n",
       " <meta content=\"summary_large_image\" name=\"twitter:card\"/>,\n",
       " <meta content=\"@nplusodin\" name=\"twitter:site\"/>,\n",
       " <meta content=\"Биоинженеры научились управлять стволовыми клетками РНК-интерференцией\" name=\"twitter:title\"/>,\n",
       " <meta content=\"Для этого они создали липид-полимерные наночастицы, несущие siRNA\" name=\"twitter:description\"/>,\n",
       " <meta content=\"https://nplus1.ru/images/2020/10/10/1a6f9078d039cd85e90712c3422a8e16.png\" name=\"twitter:image\"/>,\n",
       " <meta content=\"8c90b02c84ac3b72\" name=\"yandex-verification\"/>]"
      ]
     },
     "execution_count": 10,
     "metadata": {},
     "output_type": "execute_result"
    }
   ],
   "source": [
    "soup0.find_all('meta')"
   ]
  },
  {
   "cell_type": "markdown",
   "metadata": {},
   "source": [
    "Из этого списка нам нужны части с именем автора, датой, заголовком и кратким описанием. Воспользуемся поиском по атрибуту `name`. Передадим функции `find_all()` в качестве аргумента словарь с названием и значением атрибута: "
   ]
  },
  {
   "cell_type": "code",
   "execution_count": 11,
   "metadata": {},
   "outputs": [
    {
     "data": {
      "text/plain": [
       "[<meta content=\"Наталия Миранда\" name=\"author\"/>]"
      ]
     },
     "execution_count": 11,
     "metadata": {},
     "output_type": "execute_result"
    }
   ],
   "source": [
    "soup0.find_all('meta', {'name' : 'author'}) # например, автор"
   ]
  },
  {
   "cell_type": "markdown",
   "metadata": {},
   "source": [
    "Теперь выберем единственный элемент полученного списка (с индексом 0):"
   ]
  },
  {
   "cell_type": "code",
   "execution_count": 12,
   "metadata": {},
   "outputs": [
    {
     "data": {
      "text/plain": [
       "<meta content=\"Наталия Миранда\" name=\"author\"/>"
      ]
     },
     "execution_count": 12,
     "metadata": {},
     "output_type": "execute_result"
    }
   ],
   "source": [
    "soup0.find_all('meta', {'name' : 'author'})[0]"
   ]
  },
  {
   "cell_type": "markdown",
   "metadata": {},
   "source": [
    "Нам нужно вытащить из этого объекта `content` – имя автора. Посмотрим на атрибуты:"
   ]
  },
  {
   "cell_type": "code",
   "execution_count": 13,
   "metadata": {},
   "outputs": [
    {
     "data": {
      "text/plain": [
       "{'name': 'author', 'content': 'Наталия Миранда'}"
      ]
     },
     "execution_count": 13,
     "metadata": {},
     "output_type": "execute_result"
    }
   ],
   "source": [
    "soup0.find_all('meta', {'name' : 'author'})[0].attrs"
   ]
  },
  {
   "cell_type": "markdown",
   "metadata": {},
   "source": [
    "Как получить отсюда `content`? Очень просто, ведь это словарь! А доставать из словаря значение по ключу мы умеем."
   ]
  },
  {
   "cell_type": "code",
   "execution_count": 14,
   "metadata": {},
   "outputs": [
    {
     "data": {
      "text/plain": [
       "'Наталия Миранда'"
      ]
     },
     "execution_count": 14,
     "metadata": {},
     "output_type": "execute_result"
    }
   ],
   "source": [
    "author = soup0.find_all('meta', {'name' : 'author'})[0].attrs['content']\n",
    "author"
   ]
  },
  {
   "cell_type": "markdown",
   "metadata": {},
   "source": [
    "Аналогичным образом извлечем дату, заголовок и описание."
   ]
  },
  {
   "cell_type": "code",
   "execution_count": 15,
   "metadata": {},
   "outputs": [],
   "source": [
    "date = soup0.find_all('meta', {'itemprop' : 'datePublished'})[0].attrs['content']\n",
    "title = soup0.find_all('meta', {'property' : 'og:title'})[0].attrs['content']\n",
    "description = soup0.find_all('meta', {'name' : 'description'})[0].attrs['content']"
   ]
  },
  {
   "cell_type": "markdown",
   "metadata": {},
   "source": [
    "Осталось вытащить рубрики и сложность текста. Если мы посмотрим на исходный код страницы, мы увидим, что нужная нам информация находится в тэгах `<p></p>`:"
   ]
  },
  {
   "cell_type": "code",
   "execution_count": 16,
   "metadata": {},
   "outputs": [
    {
     "data": {
      "text/plain": [
       "[<p class=\"table\">\n",
       " <a data-rubric=\"materials\" href=\"/rubric/materials\">Материалы</a>\n",
       " <a data-rubric=\"medicine\" href=\"/rubric/medicine\">Медицина</a>\n",
       " </p>, <p class=\"table\">\n",
       " <a href=\"/news/2020/10/10\">\n",
       " <time content=\"2020-10-10\" data-unix=\"1602333455\" itemprop=\"datePublished\">\n",
       " <span>15:37</span>\n",
       " <span>10 Окт. 2020</span>\n",
       " </time>\n",
       " </a>\n",
       " </p>, <p class=\"table\">\n",
       " <a href=\"/difficult/3.2\">\n",
       " <span>Сложность</span>\n",
       " <span class=\"difficult-value\">3.2</span>\n",
       " </a>\n",
       " </p>, <p class=\"title\">Миграция нейтрофилов из ниш стволовых клеток. Слева (верх и низ) — контроль, справа — до обработки наночастицами с siSdf1 (верх) и после (низ)</p>, <p class=\"credits\">Matthias Nahrendorf et al. / Nature Biomedical Engineering, 2020</p>, <p>Американские ученые разработали липид-полимерные наночастицы, несущие малые интерферирующие РНК и способные проникать в клетки стромы костного мозга. Подавляя там экспрессию различных генов, исследователи смогли управлять процессами миграции стволовых и прогениторных клеток из костного мозга в кровоток. Результаты исследования <a href=\"https://www.nature.com/articles/s41551-020-00623-7\" rel=\"nofollow\" target=\"_blank\" title=\"Link: https://www.nature.com/articles/s41551-020-00623-7\">опубликованы </a>в журнале <i>Nature Biomedical Engineering</i>.</p>, <p>В костном мозге человека находится внушительное количество прогениторных и гемопоэтических стволовых клеток, а в кровоток ежедневно  высвобождается множество клеток крови. Процессы их дифференциации, пролиферации и миграции частично регулируются микроокружением стволовых клеток — стромой костного мозга, или нишевыми клетками. К ним относятся эндотелиальные клетки костного мозга, образующие тонкие однослойные кровеносные сосуды, и способные самостоятельно выделять сигнальные молекулы для кроветворных клеток.</p>, <p>Перспектива управления процессами миграции гемопоэтических клеток в кровоток очень привлекательна для медицины. Индукция высвобождения клеток костного мозга необходима при трансплантации стволовых клеток из периферической крови — эта процедура гораздо безопаснее и относительно безболезненная для донора, в отличие от непосредственной пересадки костного мозга. Однако не менее интересен и обратный процесс — ингибирование миграции клеток крови, так как их повышенное количество в кровотоке связывают с чересчур тяжелым течением воспалительных процессов.</p>, <p>Дэниел Андерсон (Daniel Anderson) и Матиас Нарендорф (Matthias Nahrendorf) из Массачусетского технологического института и Массачусетской больницы общего профиля вместе с коллегами в поисках решения этих вопросов решили подавить экспрессию некоторых генов в эндотелиальных клетках стромы костного мозга мышей с помощью <a href=\"https://ru.wikipedia.org/wiki/%D0%A0%D0%9D%D0%9A-%D0%B8%D0%BD%D1%82%D0%B5%D1%80%D1%84%D0%B5%D1%80%D0%B5%D0%BD%D1%86%D0%B8%D1%8F\" rel=\"nofollow\" target=\"_blank\">малых интерферирующих РНК </a>(siRNA), доставляемых в составе наночастиц. </p>, <p>Для создания наночастиц ученые использовали С<sub>15</sub>-липиды с эпоксидной группой на одном конце и низкомолекулярные полиамины в молярном соотношении 14:1. Получившийся материал смешали с siRNA и полиэтиленгликолем, после чего частицы образовались за счет электростатических взаимодействий между положительно заряженным полимером и отрицательно заряженными нуклеиновыми кислотами. </p>, <p></p>, <p class=\"title\">Схема получения липид-полимерных наночастиц с siRNA</p>, <p class=\"credits\">Matthias Nahrendorf et al. / Nature Biomedical Engineering, 2020</p>, <p>В качестве рычагов управления процессами миграции клеток авторы решили воспользоваться белками-хемокинами <a href=\"https://ru.wikipedia.org/wiki/SDF-1_(%D0%B1%D0%B5%D0%BB%D0%BE%D0%BA)\" rel=\"nofollow\" target=\"_blank\">SDF-1</a> (stromal cell-derived factor-1) и <a href=\"https://ru.wikipedia.org/wiki/CCL2\" rel=\"nofollow\" target=\"_blank\">MCP-1</a> (monocyte chemoattractant protein-1). Первый из них обеспечивает локализацию гемопоэтических стволовых клеток в строме костного мозга, не допуская ранней миграции из нее, второй — наоборот, отвечает за выход клеток и их транспорт в очаги воспаления. Цель заключалась в том, чтобы, подавляя экспрессию этих генов с помощью соответствующих малых интерферирующих РНК, искусственно вызвать выход гемопоэтических клеток из костного мозга, либо заставить их там оставаться.</p>, <p>В экспериментах <i>in vivo</i> мышам внутривенно вводили липид-полимерные наночастицы с siSdf1 (siRNA, направленная на подавление экспрессии гена <i>Sdf1</i>) и наблюдали за последствиями. Оказалось, что в крови повысилось количество LSK клеток (lineage<sup>− </sup>sca1<sup>+ </sup>c-kit<sup>+</sup>) — ранней формы гемопоэтических клеток у мышей. Также ученые обратили внимание на выход из костного мозга, помимо стволовых клеток, моноцитов и нейтрофилов — их количество в крови мышей также было повышено. </p>, <p></p>, <p class=\"title\">Мышам (пять-десять особей) вводили внутривенно наночастицы с siLuc в концентрации два миллиграмма на килограмм (контроль: siRNA, направленная на ген люциферазы, белым цветом) и наночастицы с siSdf1 в концентрации два миллиграмма на килограмм (серым цветом) в первые и третьи сутки, на пятые сутки отбирали материал для исследования. Слева направо: уровень экспрессии гена Sdf1, количество LSK-клеток на миллилитр крови, количество моноцитов на бедренную кость, количество нейтрофилов на бедренную кость.</p>, <p class=\"credits\">Matthias Nahrendorf et al. / Nature Biomedical Engineering, 2020</p>, <p>То же проделали с наночастицами, содержащими уже siMcp1. Высокая экспрессия <i>Mcp1</i>, как правило, связана с инфекциями — MCP-1 секретируется в нишу стволовых клеток и обеспечивает выход моноцитов в кровоток для борьбы с патогеном. По этой причине авторы, после введения липид-полимерных наночастиц с siMcp1 в кровь мышам, ввели им также липополисахариды (характерный бактериальный антиген). В результате экспрессия <i>Mcp1</i> в контроле была действительно высокой, в отличие от группы, которой ввели наночастицы с siMcp1. При этом ожидаемо возросло количество моноцитов в строме костного мозга, а в кровотоке — напротив, уменьшилось.</p>, <p>За результатами этой работы авторы видят большой потенциал в лечении онкологических заболеваний, а также воспалительных процессов. В частности, при инфаркте миокарда последующее за этим повышение количества моноцитов, концентрирующих на пораженных тканях сердца, может вызывать осложнения. Предложенный метод подавления экспрессии хемокинов нишевых клеток костного мозга подходит для их предотвращения. </p>, <p>РНК-интерференция — сравнительно простой метод подавления экспрессии определенного гена в клетках практически любой ткани. Вопрос обычно заключается в доставке интерферирующей РНК, минуя многочисленные эндонуклеазы крови. Не так давно FDA одобрило <a href=\"https://nplus1.ru/news/2019/11/22/second-rnai-drug\" target=\"_blank\" title=\"Link: https://nplus1.ru/news/2019/11/22/second-rnai-drug\">второе в мире лекарство </a>на основе РНК-интерференции и оно, вероятно, не будет последним.</p>, <p><i>Наталия Миранда</i></p>, <p>Нашли опечатку? Выделите фрагмент и нажмите Ctrl+Enter.</p>, <p class=\"subtitle\">Как сделана российская инактивированная вакцина от нового коронавируса</p>, <p>Коэффициент сложности</p>, <p>Коэффициент сложности</p>, <p>Коэффициент сложности</p>, <p>Коэффициент сложности</p>, <p>Коэффициент сложности</p>, <p>Коэффициент сложности</p>, <p>Коэффициент сложности</p>, <p>Коэффициент сложности</p>, <p>Коэффициент сложности</p>, <p>Коэффициент сложности</p>, <p>© 2020 N+1 Интернет-издание   Свидетельство о регистрации СМИ Эл № ФС77-67614</p>, <p>Использование всех текстовых материалов без изменений в некоммерческих целях разрешается со ссылкой на N+1. \n",
       "                         Все аудиовизуальные произведения являются собственностью своих авторов и правообладателей и используются \n",
       "                         только в образовательных и информационных целях. Если вы являетесь собственником того или иного произведения \n",
       "                         и не согласны с его размещением на нашем сайте, пожалуйста, напишите на kirill@nplus1.ru</p>, <p>Материалы, опубликованные в разделе «Блоги», отражают позиции их авторов, которые могут не совпадать с мнением редакции.</p>, <p>Сайт может содержать контент, не предназначенный для лиц младше 18 лет.</p>, <p>\n",
       " <a class=\"pd\" href=\"https://nplus1.ru/personal-data-policy\">Политика обработки персональных данных пользователей сайта</a>\n",
       " </p>, <p>\n",
       " <script async=\"\" src=\"//s.luxupcdnc.com/t/consent_195458.js\" type=\"text/javascript\"></script>\n",
       " <a href=\"#\" onclick=\"if(window.__lxG__consent__ !== undefined) {window.__lxG__consent__.showConsent()} else {alert('This function works only for users from the European Economic Area (EEA).')}; return false\">Change privacy settings</a>\n",
       " </p>, <p>\n",
       " </p>]"
      ]
     },
     "execution_count": 16,
     "metadata": {},
     "output_type": "execute_result"
    }
   ],
   "source": [
    "soup0.find_all('p')"
   ]
  },
  {
   "cell_type": "markdown",
   "metadata": {},
   "source": [
    "Выберем из полученного списка первый элемент и найдем в нем все тэги `<a>`:"
   ]
  },
  {
   "cell_type": "code",
   "execution_count": 17,
   "metadata": {},
   "outputs": [
    {
     "data": {
      "text/plain": [
       "[<a data-rubric=\"materials\" href=\"/rubric/materials\">Материалы</a>,\n",
       " <a data-rubric=\"medicine\" href=\"/rubric/medicine\">Медицина</a>]"
      ]
     },
     "execution_count": 17,
     "metadata": {},
     "output_type": "execute_result"
    }
   ],
   "source": [
    "soup0.find_all('p')[0].find_all('a')"
   ]
  },
  {
   "cell_type": "markdown",
   "metadata": {},
   "source": [
    "Получился список из одного элемента. Применим списковые включения – вытащим из каждого элемента (их могло бы быть больше) текст и поместим его в новый список `rubrics`."
   ]
  },
  {
   "cell_type": "code",
   "execution_count": 18,
   "metadata": {},
   "outputs": [
    {
     "data": {
      "text/plain": [
       "['Материалы', 'Медицина']"
      ]
     },
     "execution_count": 18,
     "metadata": {},
     "output_type": "execute_result"
    }
   ],
   "source": [
    "rubrics = [r.text for r in soup0.find_all('p')[0].find_all('a')]\n",
    "rubrics"
   ]
  },
  {
   "cell_type": "markdown",
   "metadata": {},
   "source": [
    "Осталась только сложность. Возьмем соответствующий кусок кода:"
   ]
  },
  {
   "cell_type": "code",
   "execution_count": 19,
   "metadata": {},
   "outputs": [
    {
     "data": {
      "text/plain": [
       "[<span class=\"difficult-value\">3.2</span>]"
      ]
     },
     "execution_count": 19,
     "metadata": {},
     "output_type": "execute_result"
    }
   ],
   "source": [
    "soup0.find_all('span', {'class' : 'difficult-value'})"
   ]
  },
  {
   "cell_type": "markdown",
   "metadata": {},
   "source": [
    "И выберем оттуда текст."
   ]
  },
  {
   "cell_type": "code",
   "execution_count": 20,
   "metadata": {},
   "outputs": [
    {
     "data": {
      "text/plain": [
       "'3.2'"
      ]
     },
     "execution_count": 20,
     "metadata": {},
     "output_type": "execute_result"
    }
   ],
   "source": [
    "diff = soup0.find_all('span', {'class' : 'difficult-value'})[0].text\n",
    "diff"
   ]
  },
  {
   "cell_type": "markdown",
   "metadata": {},
   "source": [
    "Теперь перейдем к тексту самой новости. Как можно заметить, текст сохранен в абзацах `<p></p>`, причем безо всяких атрибутов. Сообщим Python, что нас интересуют куски с пустым атрибутом `class`:"
   ]
  },
  {
   "cell_type": "code",
   "execution_count": 29,
   "metadata": {},
   "outputs": [],
   "source": [
    "text_list = soup0.find_all('p', {'class' : None})"
   ]
  },
  {
   "cell_type": "markdown",
   "metadata": {},
   "source": [
    "«Выцепим» все тексты (без тэгов) из полученного списка:"
   ]
  },
  {
   "cell_type": "code",
   "execution_count": 30,
   "metadata": {},
   "outputs": [],
   "source": [
    "text = [t.text for t in text_list]"
   ]
  },
  {
   "cell_type": "markdown",
   "metadata": {},
   "source": [
    "Склеим все элементы списка `text` через пробел:"
   ]
  },
  {
   "cell_type": "code",
   "execution_count": 31,
   "metadata": {},
   "outputs": [
    {
     "data": {
      "text/plain": [
       "'Американские ученые разработали липид-полимерные наночастицы, несущие малые интерферирующие РНК и\\xa0способные проникать в\\xa0клетки стромы костного мозга. Подавляя там экспрессию различных генов, исследователи смогли управлять процессами миграции стволовых и\\xa0прогениторных клеток из\\xa0костного мозга в\\xa0кровоток. Результаты исследования опубликованы в\\xa0журнале Nature Biomedical Engineering. В\\xa0костном мозге человека находится внушительное количество прогениторных и\\xa0гемопоэтических стволовых клеток, а\\xa0в\\xa0кровоток ежедневно\\xa0 высвобождается множество клеток крови. Процессы их\\xa0дифференциации, пролиферации и\\xa0миграции частично регулируются микроокружением стволовых клеток\\xa0— стромой костного мозга, или нишевыми клетками. К\\xa0ним относятся эндотелиальные клетки костного мозга, образующие тонкие однослойные кровеносные сосуды, и\\xa0способные самостоятельно выделять сигнальные молекулы для кроветворных клеток. Перспектива управления процессами миграции гемопоэтических клеток в\\xa0кровоток очень привлекательна для медицины. Индукция высвобождения клеток костного мозга необходима при трансплантации стволовых клеток из\\xa0периферической крови\\xa0— эта процедура гораздо безопаснее и\\xa0относительно безболезненная для донора, в\\xa0отличие от\\xa0непосредственной пересадки костного мозга. Однако не\\xa0менее интересен и\\xa0обратный процесс\\xa0— ингибирование миграции клеток крови, так как их\\xa0повышенное количество в\\xa0кровотоке связывают с\\xa0чересчур тяжелым течением воспалительных процессов. Дэниел Андерсон (Daniel Anderson) и\\xa0Матиас Нарендорф (Matthias Nahrendorf) из\\xa0Массачусетского технологического института и\\xa0Массачусетской больницы общего профиля вместе с\\xa0коллегами в\\xa0поисках решения этих вопросов решили подавить экспрессию некоторых генов в\\xa0эндотелиальных клетках стромы костного мозга мышей с\\xa0помощью малых интерферирующих РНК (siRNA), доставляемых в\\xa0составе наночастиц.  Для создания наночастиц ученые использовали С15-липиды с\\xa0эпоксидной группой на\\xa0одном конце и\\xa0низкомолекулярные полиамины в\\xa0молярном соотношении 14:1. Получившийся материал смешали с\\xa0siRNA и\\xa0полиэтиленгликолем, после чего частицы образовались за\\xa0счет электростатических взаимодействий между положительно заряженным полимером и\\xa0отрицательно заряженными нуклеиновыми кислотами.   В\\xa0качестве рычагов управления процессами миграции клеток авторы решили воспользоваться белками-хемокинами SDF-1 (stromal cell-derived factor-1) и\\xa0MCP-1 (monocyte chemoattractant protein-1). Первый из\\xa0них обеспечивает локализацию гемопоэтических стволовых клеток в\\xa0строме костного мозга, не\\xa0допуская ранней миграции из\\xa0нее, второй\\xa0— наоборот, отвечает за\\xa0выход клеток и\\xa0их\\xa0транспорт в\\xa0очаги воспаления. Цель заключалась в\\xa0том, чтобы, подавляя экспрессию этих генов с\\xa0помощью соответствующих малых интерферирующих РНК, искусственно вызвать выход гемопоэтических клеток из\\xa0костного мозга, либо заставить их\\xa0там оставаться. В\\xa0экспериментах in\\xa0vivo мышам внутривенно вводили липид-полимерные наночастицы с\\xa0siSdf1 (siRNA, направленная на\\xa0подавление экспрессии гена Sdf1) и\\xa0наблюдали за\\xa0последствиями. Оказалось, что в\\xa0крови повысилось количество LSK клеток (lineage− sca1+ c-kit+)\\xa0— ранней формы гемопоэтических клеток у\\xa0мышей. Также ученые обратили внимание на\\xa0выход из\\xa0костного мозга, помимо стволовых клеток, моноцитов и\\xa0нейтрофилов\\xa0— их\\xa0количество в\\xa0крови мышей также было повышено.   То\\xa0же проделали с\\xa0наночастицами, содержащими уже siMcp1. Высокая экспрессия Mcp1, как правило, связана с\\xa0инфекциями\\xa0— MCP-1 секретируется в\\xa0нишу стволовых клеток и\\xa0обеспечивает выход моноцитов в\\xa0кровоток для борьбы с\\xa0патогеном. По\\xa0этой причине авторы, после введения липид-полимерных наночастиц с\\xa0siMcp1\\xa0в кровь мышам, ввели им\\xa0также липополисахариды (характерный бактериальный антиген). В\\xa0результате экспрессия Mcp1\\xa0в контроле была действительно высокой, в\\xa0отличие от\\xa0группы, которой ввели наночастицы с\\xa0siMcp1. При этом ожидаемо возросло количество моноцитов в\\xa0строме костного мозга, а\\xa0в\\xa0кровотоке\\xa0— напротив, уменьшилось. За\\xa0результатами этой работы авторы видят большой потенциал в\\xa0лечении онкологических заболеваний, а\\xa0также воспалительных процессов. В\\xa0частности, при инфаркте миокарда последующее за\\xa0этим повышение количества моноцитов, концентрирующих на\\xa0пораженных тканях сердца, может вызывать осложнения. Предложенный метод подавления экспрессии хемокинов нишевых клеток костного мозга подходит для их\\xa0предотвращения.  РНК-интерференция\\xa0— сравнительно простой метод подавления экспрессии определенного гена в\\xa0клетках практически любой ткани. Вопрос обычно заключается в\\xa0доставке интерферирующей РНК, минуя многочисленные эндонуклеазы крови. Не\\xa0так давно FDA одобрило\\xa0второе в\\xa0мире лекарство на\\xa0основе РНК-интерференции и\\xa0оно, вероятно, не\\xa0будет последним. Наталия Миранда Нашли опечатку? Выделите фрагмент и нажмите Ctrl+Enter. Коэффициент сложности Коэффициент сложности Коэффициент сложности Коэффициент сложности Коэффициент сложности Коэффициент сложности Коэффициент сложности Коэффициент сложности Коэффициент сложности Коэффициент сложности © 2020 N+1 Интернет-издание \\xa0 Свидетельство о регистрации СМИ Эл № ФС77-67614 Использование всех текстовых материалов без изменений в некоммерческих целях разрешается со ссылкой на N+1. \\n                        Все аудиовизуальные произведения являются собственностью своих авторов и правообладателей и используются \\n                        только в образовательных и информационных целях. Если вы являетесь собственником того или иного произведения \\n                        и не согласны с его размещением на нашем сайте, пожалуйста, напишите на kirill@nplus1.ru Материалы, опубликованные в разделе «Блоги», отражают позиции их авторов, которые могут не совпадать с мнением редакции. Сайт может содержать контент, не предназначенный для лиц младше 18 лет. \\nПолитика обработки персональных данных пользователей сайта\\n \\n\\nChange privacy settings\\n \\n'"
      ]
     },
     "execution_count": 31,
     "metadata": {},
     "output_type": "execute_result"
    }
   ],
   "source": [
    "final_text = ' '.join(text)\n",
    "final_text"
   ]
  },
  {
   "cell_type": "markdown",
   "metadata": {},
   "source": [
    "Все здорово, только мешают отступы-переходы на новую строку `\\n`. Заменим их на пробелы с помощью метода `.replace`:"
   ]
  },
  {
   "cell_type": "code",
   "execution_count": 32,
   "metadata": {},
   "outputs": [],
   "source": [
    "final_text = final_text.replace('\\n', ' ')"
   ]
  },
  {
   "cell_type": "markdown",
   "metadata": {},
   "source": [
    "Теперь осталось совсем чуть-чуть. Написать готовую функцию для всех проделанных нами действий и применить ее в цикле для всех ссылок в списке `full_urls`. Напишем! Аргументом функции будет ссылка на новость, а возвращать она будет текст новости и всю необходимую информацию (дата, автор, сложность и проч.). Скопируем все строки кода выше."
   ]
  },
  {
   "cell_type": "code",
   "execution_count": 33,
   "metadata": {},
   "outputs": [],
   "source": [
    "def GetNews(url0):\n",
    "    \"\"\"\n",
    "    Returns a tuple with url0, date, author, description, title, final_text, rubrics, diff.\n",
    "    Parameters:\n",
    "    \n",
    "    url0 is a link to the news (string)\n",
    "    \"\"\"\n",
    "    page0 = requests.get(url0)\n",
    "    soup0 = BeautifulSoup(page0.text, 'lxml')\n",
    "    author = soup0.find_all('meta', {'name' : 'author'})[0].attrs['content']\n",
    "    date = soup0.find_all('meta', {'itemprop' : 'datePublished'})[0].attrs['content']\n",
    "    title = soup0.find_all('meta', {'property' : 'og:title'})[0].attrs['content']\n",
    "    description = soup0.find_all('meta', {'name' : 'description'})[0].attrs['content']\n",
    "    rubrics = [r.text for r in soup0.find_all('p')[0].find_all('a')]\n",
    "    diff = soup0.find_all('span', {'class' : 'difficult-value'})[0].text\n",
    "    text_list = soup0.find_all('p', {'class' : None})\n",
    "    text = [t.text for t in text_list]\n",
    "    final_text = ' '.join(text)\n",
    "    final_text = final_text.replace('\\n', ' ')\n",
    "    \n",
    "    return url0, date, author, description, title, final_text, rubrics, diff"
   ]
  },
  {
   "cell_type": "markdown",
   "metadata": {},
   "source": [
    "Уфф. Осталось применить ее в цикле. Но давайте не будем спешить: импортируем функцию `sleep` для задержки, чтобы на каждой итерации цикла, прежде чем перейти к следующей новости, Python ждал несколько секунд. Во-первых, это нужно, чтобы сайт «не понял», чтобы мы его грабим, да еще автоматически. Во-вторых, с небольшой задержкой всегда есть гарантия, что страница прогрузится (сейчас это пока не очень важно, но особенно актуально будет, когда будем обсуждать встраивание в браузер с Selenium). Приступим."
   ]
  },
  {
   "cell_type": "code",
   "execution_count": 34,
   "metadata": {},
   "outputs": [],
   "source": [
    "from time import sleep"
   ]
  },
  {
   "cell_type": "code",
   "execution_count": 35,
   "metadata": {},
   "outputs": [],
   "source": [
    "news = [] # это будет список из кортежей, в которых будут храниться данные по каждой новости\n",
    "\n",
    "for link in full_urls:\n",
    "    res = GetNews(link)\n",
    "    news.append(res)\n",
    "    sleep(3) # задержка в 3 секунды"
   ]
  },
  {
   "cell_type": "markdown",
   "metadata": {},
   "source": [
    "Так теперь выглядит первый элемент списка:"
   ]
  },
  {
   "cell_type": "code",
   "execution_count": 36,
   "metadata": {},
   "outputs": [
    {
     "data": {
      "text/plain": [
       "('https://nplus1.ru/news/2020/10/10/choka',\n",
       " '2020-10-10',\n",
       " 'Николай Воронцов',\n",
       " 'Раму можно самостоятельно накачать дома насосом или компрессором и не брать с собой в поездку велосипедный насос.',\n",
       " 'Раму велосипеда превратили в резервуар для сжатого воздуха',\n",
       " 'Французские дизайнеры предложили использовать велосипедную раму в качестве баллона для сжатого воздуха. По словам авторов проекта на Kickstarter, раму можно самостоятельно накачать дома насосом или компрессором и не брать с собой в поездку велосипедный насос. Велосипедисты нередко берут с собой в поездку велонасос — иногда колесо нужно накачать после ремонта в полевых условиях, а иногда бескамерная покрышка может соскочить с обода. Популярная альтернатива ручным насосам — насосы со сменными картриджами углекислого газа, к которым после каждого использования нужно приобретать новый картридж, поскольку они не подразумевают перезарядки в домашних условиях. Существуют и более экзотические решения — например, портативный многоразовый баллон со сжатым воздухом.\\xa0Однако все эти варианты, включая классический ручной насос, подразумевают, что владелец велосипеда не забудет насос дома. Дизайнеры из Франции решили использовать в качестве резервуара для воздуха полость велосипедной рамы и таким образом убрать потребность в отдельном насосе во время поездки. В рамках краудфандинговой кампании авторы представили две модели рам (для шоссейного и горного велосипеда) под маркой CHOKA. Рама герметично заварена (рядом с кареткой предусмотрен клапан сброса избыточного давления) и предполагается, что владелец самостоятельно накачивает ее перед поездкой удобным насосом или компрессором.  В рамках кампании на Kickstarter разработчики предлагают как обе рамы с интегрированной системой подачи воздуха (от 990 евро), так и раму для горного велосипеда с передней вилкой в комплекте (1790 евро). Отправка рам покупателям запланирована на июнь 2021 года. Ранее мы писали и о других велосипедных краудфандиговых кампаниях. Например, компания NuBike\\xa0спроектировала\\xa0велосипед с рычажным приводом — в нем педали надо нажимать, а не крутить. А изобретатель из Великобритании пытался собрать деньги на создание взрывчатой сигнализации для велосипеда. Николай Воронцов Нашли опечатку? Выделите фрагмент и нажмите Ctrl+Enter. Коэффициент сложности Коэффициент сложности Коэффициент сложности Коэффициент сложности Коэффициент сложности Коэффициент сложности Коэффициент сложности Коэффициент сложности Коэффициент сложности Коэффициент сложности © 2020 N+1 Интернет-издание \\xa0 Свидетельство о регистрации СМИ Эл № ФС77-67614 Использование всех текстовых материалов без изменений в некоммерческих целях разрешается со ссылкой на N+1.                          Все аудиовизуальные произведения являются собственностью своих авторов и правообладателей и используются                          только в образовательных и информационных целях. Если вы являетесь собственником того или иного произведения                          и не согласны с его размещением на нашем сайте, пожалуйста, напишите на kirill@nplus1.ru Материалы, опубликованные в разделе «Блоги», отражают позиции их авторов, которые могут не совпадать с мнением редакции. Сайт может содержать контент, не предназначенный для лиц младше 18 лет.  Политика обработки персональных данных пользователей сайта    Change privacy settings   ',\n",
       " ['Транспорт'],\n",
       " '1.1')"
      ]
     },
     "execution_count": 36,
     "metadata": {},
     "output_type": "execute_result"
    }
   ],
   "source": [
    "news[0]"
   ]
  },
  {
   "cell_type": "markdown",
   "metadata": {},
   "source": [
    "Импортируем `pandas` и создадим датафрейм из списка кортежей: "
   ]
  },
  {
   "cell_type": "code",
   "execution_count": 37,
   "metadata": {},
   "outputs": [],
   "source": [
    "import pandas as pd"
   ]
  },
  {
   "cell_type": "code",
   "execution_count": 38,
   "metadata": {},
   "outputs": [],
   "source": [
    "df = pd.DataFrame(news)"
   ]
  },
  {
   "cell_type": "code",
   "execution_count": 39,
   "metadata": {},
   "outputs": [
    {
     "data": {
      "text/html": [
       "<div>\n",
       "<style scoped>\n",
       "    .dataframe tbody tr th:only-of-type {\n",
       "        vertical-align: middle;\n",
       "    }\n",
       "\n",
       "    .dataframe tbody tr th {\n",
       "        vertical-align: top;\n",
       "    }\n",
       "\n",
       "    .dataframe thead th {\n",
       "        text-align: right;\n",
       "    }\n",
       "</style>\n",
       "<table border=\"1\" class=\"dataframe\">\n",
       "  <thead>\n",
       "    <tr style=\"text-align: right;\">\n",
       "      <th></th>\n",
       "      <th>0</th>\n",
       "      <th>1</th>\n",
       "      <th>2</th>\n",
       "      <th>3</th>\n",
       "      <th>4</th>\n",
       "      <th>5</th>\n",
       "      <th>6</th>\n",
       "      <th>7</th>\n",
       "    </tr>\n",
       "  </thead>\n",
       "  <tbody>\n",
       "    <tr>\n",
       "      <th>0</th>\n",
       "      <td>https://nplus1.ru/news/2020/10/10/choka</td>\n",
       "      <td>2020-10-10</td>\n",
       "      <td>Николай Воронцов</td>\n",
       "      <td>Раму можно самостоятельно накачать дома насосо...</td>\n",
       "      <td>Раму велосипеда превратили в резервуар для сжа...</td>\n",
       "      <td>Французские дизайнеры предложили использовать ...</td>\n",
       "      <td>[Транспорт]</td>\n",
       "      <td>1.1</td>\n",
       "    </tr>\n",
       "    <tr>\n",
       "      <th>1</th>\n",
       "      <td>https://nplus1.ru/news/2020/10/10/bone-marrow-...</td>\n",
       "      <td>2020-10-10</td>\n",
       "      <td>Наталия Миранда</td>\n",
       "      <td>Для этого они создали липид-полимерные наночас...</td>\n",
       "      <td>Биоинженеры научились управлять стволовыми кле...</td>\n",
       "      <td>Американские ученые разработали липид-полимерн...</td>\n",
       "      <td>[Материалы, Медицина]</td>\n",
       "      <td>3.2</td>\n",
       "    </tr>\n",
       "  </tbody>\n",
       "</table>\n",
       "</div>"
      ],
      "text/plain": [
       "                                                   0           1  \\\n",
       "0            https://nplus1.ru/news/2020/10/10/choka  2020-10-10   \n",
       "1  https://nplus1.ru/news/2020/10/10/bone-marrow-...  2020-10-10   \n",
       "\n",
       "                  2                                                  3  \\\n",
       "0  Николай Воронцов  Раму можно самостоятельно накачать дома насосо...   \n",
       "1   Наталия Миранда  Для этого они создали липид-полимерные наночас...   \n",
       "\n",
       "                                                   4  \\\n",
       "0  Раму велосипеда превратили в резервуар для сжа...   \n",
       "1  Биоинженеры научились управлять стволовыми кле...   \n",
       "\n",
       "                                                   5                      6  \\\n",
       "0  Французские дизайнеры предложили использовать ...            [Транспорт]   \n",
       "1  Американские ученые разработали липид-полимерн...  [Материалы, Медицина]   \n",
       "\n",
       "     7  \n",
       "0  1.1  \n",
       "1  3.2  "
      ]
     },
     "execution_count": 39,
     "metadata": {},
     "output_type": "execute_result"
    }
   ],
   "source": [
    "df.head(2)"
   ]
  },
  {
   "cell_type": "markdown",
   "metadata": {},
   "source": [
    "Переименуем столбцы в базе."
   ]
  },
  {
   "cell_type": "code",
   "execution_count": 40,
   "metadata": {},
   "outputs": [],
   "source": [
    "df.columns = ['link', 'date', 'author', 'desc', 'title', 'text', 'rubric', 'diffc']"
   ]
  },
  {
   "cell_type": "code",
   "execution_count": 41,
   "metadata": {},
   "outputs": [
    {
     "data": {
      "text/html": [
       "<div>\n",
       "<style scoped>\n",
       "    .dataframe tbody tr th:only-of-type {\n",
       "        vertical-align: middle;\n",
       "    }\n",
       "\n",
       "    .dataframe tbody tr th {\n",
       "        vertical-align: top;\n",
       "    }\n",
       "\n",
       "    .dataframe thead th {\n",
       "        text-align: right;\n",
       "    }\n",
       "</style>\n",
       "<table border=\"1\" class=\"dataframe\">\n",
       "  <thead>\n",
       "    <tr style=\"text-align: right;\">\n",
       "      <th></th>\n",
       "      <th>link</th>\n",
       "      <th>date</th>\n",
       "      <th>author</th>\n",
       "      <th>desc</th>\n",
       "      <th>title</th>\n",
       "      <th>text</th>\n",
       "      <th>rubric</th>\n",
       "      <th>diffc</th>\n",
       "    </tr>\n",
       "  </thead>\n",
       "  <tbody>\n",
       "    <tr>\n",
       "      <th>0</th>\n",
       "      <td>https://nplus1.ru/news/2020/10/10/choka</td>\n",
       "      <td>2020-10-10</td>\n",
       "      <td>Николай Воронцов</td>\n",
       "      <td>Раму можно самостоятельно накачать дома насосо...</td>\n",
       "      <td>Раму велосипеда превратили в резервуар для сжа...</td>\n",
       "      <td>Французские дизайнеры предложили использовать ...</td>\n",
       "      <td>[Транспорт]</td>\n",
       "      <td>1.1</td>\n",
       "    </tr>\n",
       "    <tr>\n",
       "      <th>1</th>\n",
       "      <td>https://nplus1.ru/news/2020/10/10/bone-marrow-...</td>\n",
       "      <td>2020-10-10</td>\n",
       "      <td>Наталия Миранда</td>\n",
       "      <td>Для этого они создали липид-полимерные наночас...</td>\n",
       "      <td>Биоинженеры научились управлять стволовыми кле...</td>\n",
       "      <td>Американские ученые разработали липид-полимерн...</td>\n",
       "      <td>[Материалы, Медицина]</td>\n",
       "      <td>3.2</td>\n",
       "    </tr>\n",
       "  </tbody>\n",
       "</table>\n",
       "</div>"
      ],
      "text/plain": [
       "                                                link        date  \\\n",
       "0            https://nplus1.ru/news/2020/10/10/choka  2020-10-10   \n",
       "1  https://nplus1.ru/news/2020/10/10/bone-marrow-...  2020-10-10   \n",
       "\n",
       "             author                                               desc  \\\n",
       "0  Николай Воронцов  Раму можно самостоятельно накачать дома насосо...   \n",
       "1   Наталия Миранда  Для этого они создали липид-полимерные наночас...   \n",
       "\n",
       "                                               title  \\\n",
       "0  Раму велосипеда превратили в резервуар для сжа...   \n",
       "1  Биоинженеры научились управлять стволовыми кле...   \n",
       "\n",
       "                                                text                 rubric  \\\n",
       "0  Французские дизайнеры предложили использовать ...            [Транспорт]   \n",
       "1  Американские ученые разработали липид-полимерн...  [Материалы, Медицина]   \n",
       "\n",
       "  diffc  \n",
       "0   1.1  \n",
       "1   3.2  "
      ]
     },
     "execution_count": 41,
     "metadata": {},
     "output_type": "execute_result"
    }
   ],
   "source": [
    "df.head(2)"
   ]
  },
  {
   "cell_type": "markdown",
   "metadata": {},
   "source": [
    "Теперь внесем изменения: сделаем столбец `diffc` числовым – типа *float*."
   ]
  },
  {
   "cell_type": "code",
   "execution_count": 42,
   "metadata": {},
   "outputs": [],
   "source": [
    "df.to_excel('nplus-news.xlsx')"
   ]
  }
 ],
 "metadata": {
  "kernelspec": {
   "display_name": "Python 3",
   "language": "python",
   "name": "python3"
  },
  "language_info": {
   "codemirror_mode": {
    "name": "ipython",
    "version": 3
   },
   "file_extension": ".py",
   "mimetype": "text/x-python",
   "name": "python",
   "nbconvert_exporter": "python",
   "pygments_lexer": "ipython3",
   "version": "3.6.5"
  }
 },
 "nbformat": 4,
 "nbformat_minor": 2
}
