{
 "cells": [
  {
   "cell_type": "markdown",
   "metadata": {},
   "source": [
    "Программа повышения квалификации (научно-педагогических) работников НИУ ВШЭ\n",
    "\n",
    "# Python для исследователей\n",
    "\n",
    "*Автор: Алла Тамбовцева, НИУ ВШЭ*  \n",
    "\n",
    "## Web-scraping: используем Selenium для автоматического управления браузером"
   ]
  },
  {
   "cell_type": "markdown",
   "metadata": {},
   "source": [
    "### Автоматизация работы в браузере: библиотека `selenium`"
   ]
  },
  {
   "cell_type": "markdown",
   "metadata": {},
   "source": [
    "Библиотека `selenium` – набор инструментов для интерактивной работы в браузере средствами Python. Вообще Selenium ‒ это целый проект, в котором есть разные инструменты. Мы рассмотрим один из самых распространенных ‒ Selenium WebDriver, модуль, который позволяется Python встраиваться в браузер и работать в нем как пользователь: кликать на ссылки и кнопки, заполнять формы, выбирать опции в меню и прочее. \n",
    "\n",
    "Мы будем использовать WebDriver для решения такой задачи. Необходимо выгрузить все адреса участковых избирательных  комиссий Ивановской области. Для этого нужно написать код, который будет открывать в окне браузера раздел *По номеру избирательного участка*, вводить в поле с номером номер участка и выбирать регион из предлагаемого списка. Итак, начнем."
   ]
  },
  {
   "cell_type": "markdown",
   "metadata": {},
   "source": [
    "Сначала загрузим веб-драйвер из библиотеки `selenium`. "
   ]
  },
  {
   "cell_type": "code",
   "execution_count": 1,
   "metadata": {},
   "outputs": [
    {
     "name": "stdout",
     "output_type": "stream",
     "text": [
      "Requirement already satisfied: selenium in c:\\users\\rogov\\anaconda3\\lib\\site-packages (3.141.0)\n",
      "Requirement already satisfied: urllib3 in c:\\users\\rogov\\anaconda3\\lib\\site-packages (from selenium) (1.22)\n"
     ]
    },
    {
     "name": "stderr",
     "output_type": "stream",
     "text": [
      "WARNING: You are using pip version 19.1.1, however version 20.0.2 is available.\n",
      "You should consider upgrading via the 'python -m pip install --upgrade pip' command.\n"
     ]
    }
   ],
   "source": [
    "!pip install selenium"
   ]
  },
  {
   "cell_type": "code",
   "execution_count": 2,
   "metadata": {},
   "outputs": [],
   "source": [
    "from selenium import webdriver as wb"
   ]
  },
  {
   "cell_type": "markdown",
   "metadata": {},
   "source": [
    "Если Python пишет `No module called selenium`, убедитесь, что у вас установлена эта библиотека. Самый надежный способ установить ее ‒ найти *Anaconda Command Prompt*, вписать строку `pip install selenium` и нажать *Enter*. Если *Anaconda Command Prompt* не находится, можно поступить так: запустить Jupyter Notebook, щелкнуть на черное окно консоли, нажать *Ctrl+Z* (остановить запуск Jupyter), а потом так же ввести в этом окне строку `pip install selenium` и нажать *Enter*.\n",
    "\n",
    "Затем нужно выбрать браузер и открыть новое окно через Python. Для этого нужно вызвать функцию, которая отвечает за открытие браузера. Мы будем вызывать Chrome."
   ]
  },
  {
   "cell_type": "code",
   "execution_count": 5,
   "metadata": {},
   "outputs": [],
   "source": [
    "br = wb.Chrome(r'chromedriver.exe')"
   ]
  },
  {
   "cell_type": "markdown",
   "metadata": {},
   "source": [
    "Если код выше не исполняется, скачайте файл с веб-драйвером [отсюда](https://sites.google.com/a/chromium.org/chromedriver/downloads), распакуйте архив и пропишите путь к файлу в круглых скобках (в примере файл с расширением exe на Windows). "
   ]
  },
  {
   "cell_type": "code",
   "execution_count": 22,
   "metadata": {},
   "outputs": [],
   "source": [
    "#br = wb.Chrome('C:/Users/student/Desktop/chromewebdriver/chromedriver.exe')"
   ]
  },
  {
   "cell_type": "markdown",
   "metadata": {},
   "source": [
    "\n",
    "**Пример.** Зайдем на сайт книжного магазина и найдем все книги про Python. Загрузим библиотеку, веб-драйвер и откроем страницу в браузере через Python."
   ]
  },
  {
   "cell_type": "code",
   "execution_count": 6,
   "metadata": {},
   "outputs": [],
   "source": [
    "# открываем страницу в Chrome в автоматическом режиме\n",
    "br.get(\"http://www.biblio-globus.ru/\")"
   ]
  },
  {
   "cell_type": "markdown",
   "metadata": {},
   "source": [
    "Найдем с помощью inspect на странице css selector поля для ввода названия книги или автора. "
   ]
  },
  {
   "cell_type": "code",
   "execution_count": 8,
   "metadata": {},
   "outputs": [],
   "source": [
    "field = br.find_element_by_css_selector(\"#search_string\")"
   ]
  },
  {
   "cell_type": "markdown",
   "metadata": {},
   "source": [
    "Сохраним запрос:"
   ]
  },
  {
   "cell_type": "code",
   "execution_count": 9,
   "metadata": {},
   "outputs": [],
   "source": [
    "topic = \"Python\"  "
   ]
  },
  {
   "cell_type": "markdown",
   "metadata": {},
   "source": [
    "Введем запрос в поле для поиска (`.send_keys`) и подождем чуть-чуть:"
   ]
  },
  {
   "cell_type": "code",
   "execution_count": 10,
   "metadata": {},
   "outputs": [],
   "source": [
    "field.send_keys(topic)\n",
    "br.implicitly_wait(2)  # подождем пару секунд"
   ]
  },
  {
   "cell_type": "markdown",
   "metadata": {},
   "source": [
    "Теперь найдем кнопку для поиска (значок *лупа* рядом со строкой поиска) через CSS Selector:"
   ]
  },
  {
   "cell_type": "code",
   "execution_count": 11,
   "metadata": {},
   "outputs": [],
   "source": [
    "submit = br.find_element_by_css_selector(\"#search_submit\")"
   ]
  },
  {
   "cell_type": "markdown",
   "metadata": {},
   "source": [
    "Кликнем на нее:"
   ]
  },
  {
   "cell_type": "code",
   "execution_count": 12,
   "metadata": {},
   "outputs": [],
   "source": [
    "submit.click()"
   ]
  },
  {
   "cell_type": "markdown",
   "metadata": {},
   "source": [
    "Сохраним первую страницу с результатами в переменную `page1`."
   ]
  },
  {
   "cell_type": "code",
   "execution_count": 13,
   "metadata": {},
   "outputs": [],
   "source": [
    "page1 = br.page_source"
   ]
  },
  {
   "cell_type": "code",
   "execution_count": 14,
   "metadata": {},
   "outputs": [
    {
     "data": {
      "text/plain": [
       "'<html xmlns=\"http://www.w3.org/1999/xhtml\"><head><title>\\n\\t\\n\\tРезультаты поиска по запросу: «Python»\\n\\n</title><meta http-equiv=\"Content-Type\" content=\"application/xhtml+xml; charset=utf-8\"><meta name=\"description\"><meta name=\"keywords\"><meta name=\"robots\">\\n\\t<link rel=\"stylesheet\" type=\"text/css\" href=\"/search/Content/Site.css?v=77\" media=\"screen\">\\n    <link rel=\"stylesheet\" type=\"text/css\" href=\"/search/Content/jquery-ui-1.8.16.custom.css\" media=\"screen\">\\n    <link rel=\"stylesheet\" href=\"https://use.fontawesome.com/releases/v5.7.0/css/all.css\" integrity=\"sha384-lZN37f5QGtY3VHgisS14W3ExzMWZxybE1SJSEsQp9S+oqd12jhcu+A56Ebc1zFSJ\" crossorigin=\"anonymous\">\\n    <link rel=\"stylesheet\" type=\"text/css\" href=\"/search/Content/eventCalendar_theme_responsive.css\" media=\"screen\">\\n    <link rel=\"stylesheet\" type=\"text/css\" href=\"/search/Content/eventCalendar.css\" media=\"screen\">\\n    <link rel=\"stylesheet\" href=\"/search/Content/owl/assets/owl.carousel.css\">\\n    <link rel=\"stylesheet\" href=\"/search/Content/owl/assets/owl.theme.default.css\">\\n\\n    <link rel=\"stylesheet\" type=\"text/css\" href=\"/search/Content/jstree.css\" media=\"screen\">\\n    \\n    <iframe id=\"pxcelframe\" src=\"//t.sharethis.com/a/t_.htm?ver=1.314.21125&amp;cid=c010&amp;cls=B#cid=c010&amp;cls=B&amp;dmn=www.biblio-globus.ru&amp;rnd=1602422525785&amp;tt=t.dhj&amp;dhjLcy=81&amp;lbl=pxcel&amp;flbl=pxcel&amp;ll=d&amp;ver=1.314.21125&amp;ell=d&amp;cck=__stid&amp;pn=%2Fsearch%2Fcatalog%2Fproducts&amp;qs=query%3DPython%26page%3D1&amp;rdn=www.biblio-globus.ru&amp;rpn=%2F&amp;rqs=na&amp;cc=RU&amp;cont=EU&amp;ipaddr=\" style=\"display: none;\"></iframe><script async=\"\" src=\"https://buttons-config.sharethis.com/js/5bfbed37a0286b00115a8f0d.js\"></script><script src=\"https://code.jquery.com/jquery-1.11.2.min.js\" type=\"text/javascript\"></script>\\n    <script src=\"/search/Scripts/jquery-ui-1.8.16.custom.min.js\" type=\"text/javascript\"></script> \\n    <script src=\"/search/Scripts/jquery.eventCalendar.min.js\" type=\"text/javascript\"></script>\\n\\t<script src=\"//platform-api.sharethis.com/js/sharethis.js#property=5bfbed37a0286b00115a8f0d&amp;product=inline-follow-buttons\"></script>\\n    \\n    <script src=\"/search/Scripts/jstree.js\" type=\"text/javascript\"></script> \\n    \\n\\n\\n    <!-- Include js plugin -->\\n    <script src=\"/search/Content/owl/owl.carousel.js\"></script>\\n\\n    <script type=\"text/javascript\">\\n        $(document).ready(function () {\\n\\n\\n            $(\"#html_1\").jstree().bind(\"select_node.jstree\", function (e, data) {\\n                data.instance.toggle_node(data.node);\\n                var href = data.node.a_attr.href;\\n                document.location.href = href;\\n            });\\n\\n            $(\"#html_2\").jstree().bind(\"select_node.jstree\", function (e, data) {\\n                data.instance.toggle_node(data.node);\\n                var href = data.node.a_attr.href;\\n                document.location.href = href;\\n            });\\n\\n            $(\"#html_3\").jstree().bind(\"select_node.jstree\", function (e, data) {\\n                data.instance.toggle_node(data.node);\\n                var href = data.node.a_attr.href;\\n                document.location.href = href;\\n            });\\n\\n            $(\"#html_4\").jstree().bind(\"select_node.jstree\", function (e, data) {\\n                data.instance.toggle_node(data.node);\\n                var href = data.node.a_attr.href;\\n                document.location.href = href;\\n            });\\n\\n            $(\"#html_5\").jstree().bind(\"select_node.jstree\", function (e, data) {\\n                data.instance.toggle_node(data.node);\\n                var href = data.node.a_attr.href;\\n                document.location.href = href;\\n            });\\n\\n\\n            $(\"#html_6\").jstree().bind(\"select_node.jstree\", function (e, data) {\\n                data.instance.toggle_node(data.node);\\n                var href = data.node.a_attr.href;\\n                document.location.href = href;\\n            });\\n\\n            $(\"#html_7\").jstree().bind(\"select_node.jstree\", function (e, data) {\\n                data.instance.toggle_node(data.node);\\n                var href = data.node.a_attr.href;\\n                document.location.href = href;\\n            });\\n\\n            $(\"#html_8\").jstree().bind(\"select_node.jstree\", function (e, data) {\\n                data.instance.toggle_node(data.node);\\n                var href = data.node.a_attr.href;\\n                document.location.href = href;\\n            });\\n\\n            $(\"#html_9\").jstree().bind(\"select_node.jstree\", function (e, data) {\\n                data.instance.toggle_node(data.node);\\n                var href = data.node.a_attr.href;\\n                document.location.href = href;\\n            });\\n\\n            $(\"#html_10\").jstree().bind(\"select_node.jstree\", function (e, data) {\\n                data.instance.toggle_node(data.node);\\n                var href = data.node.a_attr.href;\\n                document.location.href = href;\\n            });\\n\\n            $(\"#html_11\").jstree().bind(\"select_node.jstree\", function (e, data) {\\n                data.instance.toggle_node(data.node);\\n                var href = data.node.a_attr.href;\\n                document.location.href = href;\\n            });\\n        \\n            $(\"#owl-example\").owlCarousel({\\n                items: 1,\\n                thumbs: true,\\n                nav: false,\\n                dots: false,\\n                loop: true,\\n                autoplay: true,\\n                thumbsPrerendered: true\\n            });\\n\\n            $(\"#events\").on(\\'click\\', \\'.switch_btn\\', function () {\\n                var currentId = this.id.replace(\"event_\", \"\");\\n                var full_desrc = \\'#full_description_\\' + currentId;\\n                var desrc = \\'#description_\\' + currentId;\\n                $(full_desrc).slideToggle(\"slow\");\\n                //$(desrc).slideToggle(\"slow\");\\n                var btn_text_id = \\'#event_\\' + currentId;\\n                var btn_text = $(btn_text_id).html();\\n                if (btn_text == \\'<div class=\"event_less\">Свернуть</div>\\') {\\n                    $(btn_text_id).html(\\'<div class=\"event_more\">Подробнее</div>\\');\\n                }\\n                else {\\n                    $(btn_text_id).html(\\'<div class=\"event_less\">Свернуть</div>\\');\\n                }\\n            });\\n        });\\n    </script>\\n    \\n    <style>\\n        .ui-autocomplete-loading {\\n            background: white url(\"images/ui-anim_basic_16x16.gif\") right center no-repeat;\\n        }\\n    </style>\\n\\n<!--\\n  <script type=\"text/javascript\">\\n      $(function () {\\n          $(\"#search_field\").autocomplete({\\n              source: function (request, response) {\\n                  $.ajax({\\n                      url: \"/search/Catalog/GetSearchString\",\\n                      type: \"POST\",\\n                      dataType: \"json\",\\n                      data: {query: request.term, maxResult: 10},\\n \\t                  success: function (data) {\\n \\t                        response($.map(data, function (item) {\\n \\t                            return { label: item.Value, value: item.Value, id: item.TypeId }\\n \\t                        }))\\n \\t                  }\\n                  });\\n              },\\n              minLength: 3,\\n              select: function( event, ui ) {\\n                if(ui.item)\\n                {\\n                    window.location = \\'http://www.biblio-globus.ru/service/catalog/products?query=\\' + encodeURIComponent(ui.item.value) + \\'&page=1\\';\\n                }\\n              }\\n          });\\n      });\\n  </script>\\n -->\\n \\n</head>\\n\\n<body>\\n<table class=\"wrapper\">\\n<tbody><tr>\\n    <td class=\"left_column\"><div align=\"center\"><a href=\"http://www.biblio-globus.ru/\" id=\"logo\">\\n    <img src=\"/search/Content/Images/logo.jpg\" alt=\"\"></a></div>\\n        <div class=\"column_top_wrapper\">\\n            <div class=\"column_top\"></div>\\n        </div>\\n    </td>\\n    <td class=\"top_bg\">\\n        <div id=\"header_photo\">\\n        \\n        </div>\\n        <div class=\"top_nav\">\\n            <table width=\"100%\">\\n                <tbody><tr>\\n\\t\\t\\t\\t<td><a href=\"http://www.biblio-globus.ru/content.aspx?page_id=40\" id=\"shops_button\"></a></td>\\n                    <td><a href=\"http://www.bgshop.ru/\" target=\"_blank\" id=\"ecommerce_button\"></a></td>\\n                    <!-- <td><a href=\"http://www.biblio-globus.ru/content.aspx?page_id=5\" id=\"departments_button\"></a></td> \\n\\t\\t\\t\\t\\t<td><a href=\"http://digest.biblio-globus.ru/\" id=\"digest_button\"></a></td>-->\\n                    \\n                    <td><a href=\"http://www.biblio-globus.ru/content.aspx?page_id=14\" id=\"vendors_button\"></a></td>\\n                    <!-- <td><a href=\"http://www.biblio-globus.ru/content.aspx?page_id=306\" id=\"services_button\"></a></td> -->\\n                    <td><a href=\"http://www.biblio-globus.ru/content.aspx?page_id=15\" id=\"company_button\"></a></td>\\n                </tr>\\n            </tbody></table>\\n        </div>\\n    </td>\\n</tr>\\n<tr>\\n\\n\\n    <td class=\"left_column\" valign=\"top\">\\n\\n \\n\\n    <table width=\"100%\" border=\"0\" cellspacing=\"0\" cellpadding=\"0\" id=\"Table2\">\\n  <tbody><tr>\\n    <td valign=\"top\" align=\"center\" width=\"18%\">\\n\\n<br></td></tr>\\n  <tr>\\n    <td valign=\"top\" align=\"center\" width=\"18%\">\\n      \\n<div class=\"left_nav_divider\"></div>\\n          \\n          </td></tr>\\n\\t\\t\\t<tr>\\n\\t\\t\\t\\t<td width=\"18%\" align=\"center\" valign=\"top\"><img src=\"http://www.biblio-globus.ru/img/1px.gif\" width=\"195\" height=\"1\"><br>\\n\\n<table width=\"80%\" border=\"0\" cellspacing=\"3\" cellpadding=\"3\" id=\"Table3\">\\n<tbody>\\t\\t\\n\\n\\t\\t<tr>\\n\\t\\t<td colspan=\"3\" class=\"zag1\" style=\"color:#3a83bf;\">ИНФОРМАЦИЯ</td></tr>\\n\\t\\t<tr align=\"left\">\\n\\t\\t<td width=\"5%\"><img alt=\"\" src=\"http://www.biblio-globus.ru/img/strl.gif\" width=\"5\" height=\"5\"></td>\\n\\t\\t<td><a class=\"menu\" href=\"http://www.biblio-globus.ru/content.aspx?page_id=527\">Литературная афиша</a></td></tr>\\n\\t\\t<tr align=\"left\">\\n\\t\\t<td width=\"5%\"><img alt=\"\" src=\"http://www.biblio-globus.ru/img/strl.gif\" width=\"5\" height=\"5\"></td>\\n\\t\\t<td><a class=\"menu\" href=\"http://www.biblio-globus.ru/content.aspx?page_id=214\">Литературная гостиная им. И.Д. Сытина (клубные встречи)</a></td></tr>\\n\\t\\t\\n\\t\\t<tr align=\"left\">\\n\\t\\t<td width=\"5%\"><img alt=\"\" src=\"http://www.biblio-globus.ru/img/strl.gif\" width=\"5\" height=\"5\"></td>\\n\\t\\t<td><a class=\"menu\" href=\"http://www.biblio-globus.ru/content.aspx?page_id=491\">Книжная летопись Великой Отечественной войны</a> <sup style=\"color:red\">new</sup> \\n\\t\\t</td></tr>\\n\\t\\t<tr align=\"left\">\\n\\t\\t<td width=\"5%\"><img alt=\"\" src=\"http://www.biblio-globus.ru/img/strl.gif\" width=\"5\" height=\"5\"></td>\\n\\t\\t<td><a class=\"menu\" href=\"http://www.biblio-globus.ru/content.aspx?page_id=29\">Библио-новости</a></td></tr>\\n\\t\\t<tr align=\"left\">\\n\\t\\t<td width=\"5%\"><img alt=\"\" src=\"http://www.biblio-globus.ru/img/strl.gif\" width=\"5\" height=\"5\"></td>\\n\\t\\t<td><a class=\"menu\" href=\"http://www.biblio-globus.ru/content.aspx?page_id=513\">Наши гости о нас</a></td></tr>\\n\\t\\t<tr align=\"left\">\\n\\t\\t<td width=\"5%\"><img alt=\"\" src=\"http://www.biblio-globus.ru/img/strl.gif\" width=\"5\" height=\"5\"></td>\\n\\t\\t<td><a class=\"menu\" href=\"http://www.biblio-globus.ru/content.aspx?page_id=528\">Активация клубной (дисконтной) карты</a> <sup style=\"color:red\">new</sup></td></tr>\\n\\t\\t<tr align=\"left\">\\n\\t\\t<td width=\"5%\"><img alt=\"\" src=\"http://www.biblio-globus.ru/img/strl.gif\" width=\"5\" height=\"5\"></td>\\n\\t\\t<td><a class=\"menu\" href=\"http://www.biblio-globus.ru/content.aspx?page_id=104\">Подарочная карта</a></td></tr>\\n\\t\\t<tr align=\"left\">\\n\\t\\t<td width=\"5%\"><img alt=\"\" src=\"http://www.biblio-globus.ru/img/strl.gif\" width=\"5\" height=\"5\"></td>\\n\\t\\t<td><a class=\"menu\" href=\"http://www.biblio-globus.ru/content.aspx?page_id=46\">Личный кабинет</a></td></tr>\\n\\t\\t<tr align=\"left\">\\n\\t\\t<td width=\"5%\"><img alt=\"\" src=\"http://www.biblio-globus.ru/img/strl.gif\" width=\"5\" height=\"5\"></td>\\n\\t\\t<td><a class=\"menu\" href=\"http://service.biblio-globus.ru/librariancabinet/\" target=\"_blank\">Кабинет юридического лица</a></td></tr>\\n\\t\\t<tr align=\"left\">\\n\\t\\t<td width=\"5%\"><img alt=\"\" src=\"http://www.biblio-globus.ru/img/strl.gif\" width=\"5\" height=\"5\"></td>\\n\\t\\t<td><a class=\"menu\" href=\"http://www.biblio-globus.ru/content.aspx?page_id=31\">Персональное и корпоративное обслуживание</a></td></tr>\\n</tbody>\\n</table>\\n\\t\\t\\t\\t\\t\\n<table width=\"100%\" border=\"0\" cellspacing=\"0\" cellpadding=\"0\" id=\"Table4\">\\n<tbody>\\n\\n<tr align=\"center\">\\n<td>\\n<div class=\"left_nav_divider\"></div>\\n</td>\\n</tr>\\n\\n\\n\\n\\n\\n\\n\\t\\t\\t\\t\\t\\t<tr align=\"center\">\\n\\t\\t<td>\\n\\t\\t\\n\\t\\t\\n\\t\\t\\n\\t\\t\\n\\t\\t\\n\\t\\t\\n\\t\\t<div align=\"left\" style=\"width:170px; margin-left:10px; margin-top:40px;\">\\n\\t\\t<div style=\"width:170px; padding:0; font-family:Tahoma; font-size:11px; text-align:left; height:24px; margin-left:0px; margin-right:0; margin-top:0; margin-bottom:20px\"><img alt=\"\" src=\"http://www.biblio-globus.ru/images/social/social_title.jpg\"></div>\\n\\t\\t\\n\\t\\t<img style=\"vertical-align:middle; margin:0 10px 0 0;\" src=\"http://www.biblio-globus.ru/images/_today/vk_bgbg.jpg\" alt=\"Библио Глобус\" border=\"0\"><a href=\"http://vk.com/biblioglobus_msk\" target=\"_blank\" class=\"social_vkontakte\"> \\n\\t\\tмы в Вконтакте</a>\\t\\n\\t\\t<a href=\"http://www.facebook.com/biblio.globus/\" target=\"_blank\" class=\"social_facebook\"> \\n\\t\\tмы в Facebook</a>\\t\\t\\n\\t\\t<a href=\"http://twitter.com/Biblio_Globus/\" target=\"_blank\" class=\"social_twitter\"> \\n\\t\\tмы в Twitter</a>\\n\\t\\t\\n<a href=\"https://instagram.com/biblio.globus/\" target=\"_blank\" class=\"social_inst\"> \\n\\t\\tмы в Instagram</a>\\n\\n<a href=\"https://ok.ru/group/55673286951161\" target=\"_blank\" class=\"social_ok\">мы в Одноклассниках</a>\\n\\n       \\n\\t\\t<a href=\"http://www.youtube.com/user/BiblioGlobusStore/\" target=\"_blank\" class=\"social_you\"> \\n\\t\\tмы в YouTube</a>\\n\\n\\n\\n\\t\\t</div>\\t\\n\\t\\t\\n\\t\\t\\n\\t\\t<br><br><a href=\"http://www.biblio-globus.ru/content.aspx?page_id=328\" style=\"width:170px; text-align:left; height:24px;  margin-top:30px;\"><img src=\"http://www.biblio-globus.ru/images/nashi_nagr.jpg\" alt=\"\" border=\"0\"></a>\\n\\t\\t\\n\\t\\t\\n\\t\\t<div style=\"width:170px; padding:0; margin:15px 0 20px 0px; font-family:Tahoma; font-size:11px; text-align:left;\">\\n\\t\\t  <img style=\"border:2px solid #ccc; margin-bottom:3px;\" src=\"http://www.biblio-globus.ru/images/1_16042010.jpg\" alt=\"\"><br>\\n\\t\\t  <b>Благодарность Президента РФ</b> за большой вклад в развитие \\n\\t\\t\\tотечественной книжной торговли и активную культурно-просветительскую \\n\\t\\t\\tдеятельность.\\n\\t\\t</div>\\t\\n\\t\\t\\n\\t\\t<div style=\"width:174px; padding:0; font-family:Tahoma; font-size:11px; text-align:left; height:316px; margin-left:0px; margin-right:0; margin-top:0; margin-bottom:20px\">\\n\\t\\t  <img style=\"border:2px solid #ccc; margin-bottom:3px;\" src=\"http://www.biblio-globus.ru/images/_today/Record28122011.jpg\" alt=\"\"><br>\\n          Внесен в Российскую <b>«Книгу рекордов и достижений»</b> в номинации \\n\\t\\t\\t«Самое большое количество издательской продукции, проданное в \\n\\t\\t\\tрозницу за один день»<br><br>\\n\\t\\t\\t<a href=\"http://www.biblio-globus.ru/content.aspx?page_id=328\">Посмотреть все награды &gt;&gt;</a>\\n        </div>\\n\\t\\t</td>\\n\\t\\t</tr></tbody></table><br>\\n\\t\\t\\t\\t</td>\\n\\t\\t\\t</tr></tbody></table>\\n    \\n  \\n    <div class=\"decor2_wrapper\">\\n        <div class=\"decor2\"></div>\\n    </div>\\n\\n    </td>\\n    <td class=\"column_right\" valign=\"top\">\\n        <div class=\"content\">\\n            \\n\\n<div id=\"main_wrapper\">\\n    <!-- Поиск по сайту -->\\n<div class=\"header_1\">Поиск в книжном магазине «Библио-Глобус»</div>\\n\\n<form action=\"/search/Catalog/Products\" name=\"\" method=\"post\">\\n    <table cellpadding=\"0\" cellspacing=\"0\" width=\"100%\">\\n        <tbody><tr>\\n            <td><input type=\"text\" name=\"query\" id=\"search_field\" value=\"Python\"></td>\\n            <td align=\"right\" width=\"63\"><input type=\"submit\" id=\"search_button\" value=\"\"></td>\\n        </tr>\\n    </tbody></table>\\n</form>\\n\\n    <div class=\"header_1_2\">Результаты поиска</div>\\n    <div class=\"info\">Вы искали: «<b>Python</b>»<br> \\n    Найдено наименований: <b>114</b></div>\\n\\n    <table cellpadding=\"0\" cellspacing=\"0\" width=\"100%\">\\n        \\n        <tbody><tr>\\n        <td width=\"100\" valign=\"top\">\\n        <div class=\"type\">Книга</div>\\n            <a href=\"/search/catalog/details/10713630\" class=\"preview_image\">\\n                \\n                    <div class=\"new\">Новинка</div>\\n                \\n\\n                <img src=\"http://static.biblio-globus.ru/images/ImageHandler.ashx?fileName=10713630.jpg&amp;width=80\" alt=\"\">\\n            </a>\\n        </td>\\n        <td valign=\"top\">\\n            <div class=\"details_1\">\\n                <div class=\"author\">Мюллер , Массарон Дж. П. , Л.</div>\\n                <a href=\"/search/catalog/details/10713630\" class=\"name\">Python и наука о данных для чайников, 2-е издание</a>\\n                   \\n                \\n                    <div class=\"title_data green\">\\n                        В наличии\\n                    </div>\\n                \\n                    <div class=\"placement\"><b>Расположение в торговом зале:</b> <br>Уровень 1, зал № 07, секция 08, шкаф 76, полка 04</div>\\n                \\n                <div class=\"title_data price\">Цена: <span>1369,00</span> руб.</div>\\n\\t\\t\\n\\n            </div>\\n        </td>\\n        <td valign=\"top\" width=\"270\">\\n        \\n            <a class=\"place\" target=\"_blank\" href=\"http://www.biblio-globus.ru/content.aspx?page_id=103\">Посмотреть место в зале</a>\\n        \\n            <a class=\"im\" target=\"_blank\" href=\"https://www.bgshop.ru/catalog/getfulldescription?id=10713630\">Заказать в интернет-магазине</a>\\n        \\n        </td>\\n        </tr>\\n        <tr>\\n            <td colspan=\"3\">\\n                <div class=\"divider\"></div>\\n            </td>\\n        </tr>\\n        \\n        <tr>\\n        <td width=\"100\" valign=\"top\">\\n        <div class=\"type\">Книга</div>\\n            <a href=\"/search/catalog/details/10720510\" class=\"preview_image\">\\n                \\n                    <div class=\"new\">Новинка</div>\\n                \\n\\n                <img src=\"http://static.biblio-globus.ru/images/ImageHandler.ashx?fileName=10720510.jpg&amp;width=80\" alt=\"\">\\n            </a>\\n        </td>\\n        <td valign=\"top\">\\n            <div class=\"details_1\">\\n                <div class=\"author\">В. А. Дронов</div>\\n                <a href=\"/search/catalog/details/10720510\" class=\"name\">Для веб-программистов. Django 3.0. Практика создания веб-сайтов на Python</a>\\n                   \\n                \\n                    <div class=\"title_data green\">\\n                        В наличии\\n                    </div>\\n                \\n                    <div class=\"placement\"><b>Расположение в торговом зале:</b> <br>Уровень 1, зал № 07, секция 08, шкаф 76, полка 02</div>\\n                \\n                <div class=\"title_data price\">Цена: <span>1459,00</span> руб.</div>\\n\\t\\t\\n\\n            </div>\\n        </td>\\n        <td valign=\"top\" width=\"270\">\\n        \\n            <a class=\"place\" target=\"_blank\" href=\"http://www.biblio-globus.ru/content.aspx?page_id=103\">Посмотреть место в зале</a>\\n        \\n            <a class=\"im\" target=\"_blank\" href=\"https://www.bgshop.ru/catalog/getfulldescription?id=10720510\">Заказать в интернет-магазине</a>\\n        \\n        </td>\\n        </tr>\\n        <tr>\\n            <td colspan=\"3\">\\n                <div class=\"divider\"></div>\\n            </td>\\n        </tr>\\n        \\n        <tr>\\n        <td width=\"100\" valign=\"top\">\\n        <div class=\"type\">Книга</div>\\n            <a href=\"/search/catalog/details/10375126\" class=\"preview_image\">\\n                \\n                    <div class=\"bestseller\">Лидер продаж</div>\\n                \\n\\n                <img src=\"http://static.biblio-globus.ru/images/ImageHandler.ashx?fileName=10375126.jpg&amp;width=80\" alt=\"\">\\n            </a>\\n        </td>\\n        <td valign=\"top\">\\n            <div class=\"details_1\">\\n                <div class=\"author\">Дж. Бриггс</div>\\n                <a href=\"/search/catalog/details/10375126\" class=\"name\">Python для детей : самоучитель по программированию</a>\\n                   \\n                \\n                    <div class=\"title_data green\">\\n                        В наличии\\n                    </div>\\n                \\n                    <div class=\"placement\"><b>Расположение в торговом зале:</b> <br>Уровень 1, зал № 07, секция 08, шкаф 76, полка 06</div>\\n                \\n                <div class=\"title_data price\">Цена: <span>1299,00</span> руб.</div>\\n\\t\\t\\n\\n            </div>\\n        </td>\\n        <td valign=\"top\" width=\"270\">\\n        \\n            <a class=\"place\" target=\"_blank\" href=\"http://www.biblio-globus.ru/content.aspx?page_id=103\">Посмотреть место в зале</a>\\n        \\n            <a class=\"im\" target=\"_blank\" href=\"https://www.bgshop.ru/catalog/getfulldescription?id=10375126\">Заказать в интернет-магазине</a>\\n        \\n        </td>\\n        </tr>\\n        <tr>\\n            <td colspan=\"3\">\\n                <div class=\"divider\"></div>\\n            </td>\\n        </tr>\\n        \\n        <tr>\\n        <td width=\"100\" valign=\"top\">\\n        <div class=\"type\">Книга</div>\\n            <a href=\"/search/catalog/details/10532193\" class=\"preview_image\">\\n                \\n                    <div class=\"bestseller\">Лидер продаж</div>\\n                \\n\\n                <img src=\"http://static.biblio-globus.ru/images/ImageHandler.ashx?fileName=10532193.jpg&amp;width=80\" alt=\"\">\\n            </a>\\n        </td>\\n        <td valign=\"top\">\\n            <div class=\"details_1\">\\n                <div class=\"author\">Н. Седер</div>\\n                <a href=\"/search/catalog/details/10532193\" class=\"name\">Python. Экспресс-курс</a>\\n                   \\n                \\n                    <div class=\"title_data green\">\\n                        В наличии\\n                    </div>\\n                \\n                    <div class=\"placement\"><b>Расположение в торговом зале:</b> <br>Уровень 1, зал № 07, секция 08, шкаф 76, полка 04</div>\\n                \\n                <div class=\"title_data price\">Цена: <span>1259,00</span> руб.</div>\\n\\t\\t\\n\\n            </div>\\n        </td>\\n        <td valign=\"top\" width=\"270\">\\n        \\n            <a class=\"place\" target=\"_blank\" href=\"http://www.biblio-globus.ru/content.aspx?page_id=103\">Посмотреть место в зале</a>\\n        \\n            <a class=\"im\" target=\"_blank\" href=\"https://www.bgshop.ru/catalog/getfulldescription?id=10532193\">Заказать в интернет-магазине</a>\\n        \\n        </td>\\n        </tr>\\n        <tr>\\n            <td colspan=\"3\">\\n                <div class=\"divider\"></div>\\n            </td>\\n        </tr>\\n        \\n        <tr>\\n        <td width=\"100\" valign=\"top\">\\n        <div class=\"type\">Книга</div>\\n            <a href=\"/search/catalog/details/10713628\" class=\"preview_image\">\\n                \\n                    <div class=\"new\">Новинка</div>\\n                \\n\\n                <img src=\"http://static.biblio-globus.ru/images/ImageHandler.ashx?fileName=10713628.jpg&amp;width=80\" alt=\"\">\\n            </a>\\n        </td>\\n        <td valign=\"top\">\\n            <div class=\"details_1\">\\n                <div class=\"author\">Сонг Дж.</div>\\n                <a href=\"/search/catalog/details/10713628\" class=\"name\">Python для программирования криптовалют</a>\\n                   \\n                \\n                    <div class=\"title_data green\">\\n                        В наличии\\n                    </div>\\n                \\n                    <div class=\"placement\"><b>Расположение в торговом зале:</b> <br>Уровень 1, зал № 07, секция 08, шкаф 76, полка 05</div>\\n                \\n                <div class=\"title_data price\">Цена: <span>1709,00</span> руб.</div>\\n\\t\\t\\n\\n            </div>\\n        </td>\\n        <td valign=\"top\" width=\"270\">\\n        \\n            <a class=\"place\" target=\"_blank\" href=\"http://www.biblio-globus.ru/content.aspx?page_id=103\">Посмотреть место в зале</a>\\n        \\n            <a class=\"im\" target=\"_blank\" href=\"https://www.bgshop.ru/catalog/getfulldescription?id=10713628\">Заказать в интернет-магазине</a>\\n        \\n        </td>\\n        </tr>\\n        <tr>\\n            <td colspan=\"3\">\\n                <div class=\"divider\"></div>\\n            </td>\\n        </tr>\\n        \\n        <tr>\\n        <td width=\"100\" valign=\"top\">\\n        <div class=\"type\">Книга</div>\\n            <a href=\"/search/catalog/details/10713629\" class=\"preview_image\">\\n                \\n                    <div class=\"new\">Новинка</div>\\n                \\n\\n                <img src=\"http://static.biblio-globus.ru/images/ImageHandler.ashx?fileName=10713629.jpg&amp;width=80\" alt=\"\">\\n            </a>\\n        </td>\\n        <td valign=\"top\">\\n            <div class=\"details_1\">\\n                <div class=\"author\">Пател А.</div>\\n                <a href=\"/search/catalog/details/10713629\" class=\"name\">Прикладное машинное обучение без учителя с использованием Python</a>\\n                   \\n                \\n                    <div class=\"title_data green\">\\n                        В наличии\\n                    </div>\\n                \\n                    <div class=\"placement\"><b>Расположение в торговом зале:</b> <br>Уровень 1, зал № 07, секция 08, шкаф 85, полка 04</div>\\n                \\n                <div class=\"title_data price\">Цена: <span>2279,00</span> руб.</div>\\n\\t\\t\\n\\n            </div>\\n        </td>\\n        <td valign=\"top\" width=\"270\">\\n        \\n            <a class=\"place\" target=\"_blank\" href=\"http://www.biblio-globus.ru/content.aspx?page_id=103\">Посмотреть место в зале</a>\\n        \\n            <a class=\"im\" target=\"_blank\" href=\"https://www.bgshop.ru/catalog/getfulldescription?id=10713629\">Заказать в интернет-магазине</a>\\n        \\n        </td>\\n        </tr>\\n        <tr>\\n            <td colspan=\"3\">\\n                <div class=\"divider\"></div>\\n            </td>\\n        </tr>\\n        \\n        <tr>\\n        <td width=\"100\" valign=\"top\">\\n        <div class=\"type\">Книга</div>\\n            <a href=\"/search/catalog/details/10508455\" class=\"preview_image\">\\n                \\n                    <div class=\"bestseller\">Лидер продаж</div>\\n                \\n\\n                <img src=\"http://static.biblio-globus.ru/images/ImageHandler.ashx?fileName=10508455.jpg&amp;width=80\" alt=\"\">\\n            </a>\\n        </td>\\n        <td valign=\"top\">\\n            <div class=\"details_1\">\\n                <div class=\"author\">Б. Любанович</div>\\n                <a href=\"/search/catalog/details/10508455\" class=\"name\">Простой Python. Современный стиль программирования</a>\\n                   \\n                \\n                    <div class=\"title_data green\">\\n                        В наличии\\n                    </div>\\n                \\n                    <div class=\"placement\"><b>Расположение в торговом зале:</b> <br>Уровень 1, зал № 07, секция 08, шкаф 76, полка 03</div>\\n                \\n                <div class=\"title_data price\">Цена: <span>1579,00</span> руб.</div>\\n\\t\\t\\n\\n            </div>\\n        </td>\\n        <td valign=\"top\" width=\"270\">\\n        \\n            <a class=\"place\" target=\"_blank\" href=\"http://www.biblio-globus.ru/content.aspx?page_id=103\">Посмотреть место в зале</a>\\n        \\n            <a class=\"im\" target=\"_blank\" href=\"https://www.bgshop.ru/catalog/getfulldescription?id=10508455\">Заказать в интернет-магазине</a>\\n        \\n        </td>\\n        </tr>\\n        <tr>\\n            <td colspan=\"3\">\\n                <div class=\"divider\"></div>\\n            </td>\\n        </tr>\\n        \\n        <tr>\\n        <td width=\"100\" valign=\"top\">\\n        <div class=\"type\">Книга</div>\\n            <a href=\"/search/catalog/details/10548788\" class=\"preview_image\">\\n                \\n                    <div class=\"bestseller\">Лидер продаж</div>\\n                \\n\\n                <img src=\"http://static.biblio-globus.ru/images/ImageHandler.ashx?fileName=10548788.jpg&amp;width=80\" alt=\"\">\\n            </a>\\n        </td>\\n        <td valign=\"top\">\\n            <div class=\"details_1\">\\n                <div class=\"author\">М. Лутц</div>\\n                <a href=\"/search/catalog/details/10548788\" class=\"name\">Python : Карманный справочник</a>\\n                   \\n                \\n                    <div class=\"title_data green\">\\n                        В наличии\\n                    </div>\\n                \\n                    <div class=\"placement\"><b>Расположение в торговом зале:</b> <br>Уровень 1, зал № 07, секция 08, шкаф 76, полка 05</div>\\n                \\n                <div class=\"title_data price\">Цена: <span>689,00</span> руб.</div>\\n\\t\\t\\n\\n            </div>\\n        </td>\\n        <td valign=\"top\" width=\"270\">\\n        \\n            <a class=\"place\" target=\"_blank\" href=\"http://www.biblio-globus.ru/content.aspx?page_id=103\">Посмотреть место в зале</a>\\n        \\n            <a class=\"im\" target=\"_blank\" href=\"https://www.bgshop.ru/catalog/getfulldescription?id=10548788\">Заказать в интернет-магазине</a>\\n        \\n        </td>\\n        </tr>\\n        <tr>\\n            <td colspan=\"3\">\\n                <div class=\"divider\"></div>\\n            </td>\\n        </tr>\\n        \\n        <tr>\\n        <td width=\"100\" valign=\"top\">\\n        <div class=\"type\">Книга</div>\\n            <a href=\"/search/catalog/details/10634386\" class=\"preview_image\">\\n                \\n                    <div class=\"bestseller\">Лидер продаж</div>\\n                \\n\\n                <img src=\"http://static.biblio-globus.ru/images/ImageHandler.ashx?fileName=10634386.jpg&amp;width=80\" alt=\"\">\\n            </a>\\n        </td>\\n        <td valign=\"top\">\\n            <div class=\"details_1\">\\n                <div class=\"author\">Э. Мэтиз</div>\\n                <a href=\"/search/catalog/details/10634386\" class=\"name\">Изучаем Python: программирование игр, визуализация данных, веб-приложения. </a>\\n                   \\n                \\n                    <div class=\"title_data green\">\\n                        В наличии\\n                    </div>\\n                \\n                    <div class=\"placement\"><b>Расположение в торговом зале:</b> <br>Уровень 1, зал № 07, секция 08, шкаф 76, полка 06</div>\\n                \\n                <div class=\"title_data price\">Цена: <span>1559,00</span> руб.</div>\\n\\t\\t\\n\\n            </div>\\n        </td>\\n        <td valign=\"top\" width=\"270\">\\n        \\n            <a class=\"place\" target=\"_blank\" href=\"http://www.biblio-globus.ru/content.aspx?page_id=103\">Посмотреть место в зале</a>\\n        \\n            <a class=\"im\" target=\"_blank\" href=\"https://www.bgshop.ru/catalog/getfulldescription?id=10634386\">Заказать в интернет-магазине</a>\\n        \\n        </td>\\n        </tr>\\n        <tr>\\n            <td colspan=\"3\">\\n                <div class=\"divider\"></div>\\n            </td>\\n        </tr>\\n        \\n        <tr>\\n        <td width=\"100\" valign=\"top\">\\n        <div class=\"type\">Книга</div>\\n            <a href=\"/search/catalog/details/10655159\" class=\"preview_image\">\\n                \\n                    <div class=\"bestseller\">Лидер продаж</div>\\n                \\n\\n                <img src=\"http://static.biblio-globus.ru/images/ImageHandler.ashx?fileName=10655159.jpg&amp;width=80\" alt=\"\">\\n            </a>\\n        </td>\\n        <td valign=\"top\">\\n            <div class=\"details_1\">\\n                <div class=\"author\">Э.  Фримен</div>\\n                <a href=\"/search/catalog/details/10655159\" class=\"name\">Учимся программировать с примерами на Python</a>\\n                   \\n                \\n                    <div class=\"title_data green\">\\n                        В наличии\\n                    </div>\\n                \\n                    <div class=\"placement\"><b>Расположение в торговом зале:</b> <br>Уровень 1, зал № 07, секция 08, шкаф 76, полка 05</div>\\n                \\n                <div class=\"title_data price\">Цена: <span>1709,00</span> руб.</div>\\n\\t\\t\\n\\n            </div>\\n        </td>\\n        <td valign=\"top\" width=\"270\">\\n        \\n            <a class=\"place\" target=\"_blank\" href=\"http://www.biblio-globus.ru/content.aspx?page_id=103\">Посмотреть место в зале</a>\\n        \\n            <a class=\"im\" target=\"_blank\" href=\"https://www.bgshop.ru/catalog/getfulldescription?id=10655159\">Заказать в интернет-магазине</a>\\n        \\n        </td>\\n        </tr>\\n        <tr>\\n            <td colspan=\"3\">\\n                <div class=\"divider\"></div>\\n            </td>\\n        </tr>\\n        \\n        </tbody></table>\\n        <ul class=\"pagination\"><div class=\"current_page\">1<span class=\"left_corner\"></span></div><a class=\"page\" href=\"products?query=Python&amp;page=2\">2<span class=\"left_corner\"></span></a><a class=\"page\" href=\"products?query=Python&amp;page=3\">3<span class=\"left_corner\"></span></a><a class=\"next_page\" href=\"products?query=Python&amp;page=2\">Следующая</a><a class=\"next_page\" href=\"products?query=Python&amp;page=12\">Последняя</a> </ul>\\n        \\n    </div>\\n\\n            <div class=\"clearer\"></div>\\n        </div>\\n    </td>\\n</tr>\\n<tr>\\n    <!-- footer -->\\n    \\n    <td colspan=\"2\">\\n        <table class=\"footer\">\\n            <tbody><tr>\\n                <td width=\"217\" valign=\"top\">\\n&nbsp;\\n                </td>\\n                <td valign=\"top\">\\n                    <div class=\"footer_part_1\">\\n                        2020 OOO Торговый Дом «БИБЛИО-ГЛОБУС»\\n                        <br><br>\\n                        телефон: (495) 781-1900<br>\\n                        e-mail: <a href=\"mailto:web.logist@bgshop.ru\">mail@biblio-globus.ru</a>\\n                        <br><br>\\n                        Адрес: Мясницкая ул., д. 6/3, стр. 1.<br>\\n                        Проезд до станций метро: \"Лубянка\",<br>\\n                        \"Кузнецкий мост\", \"Китай-город\".\\n                        <br><br>\\n                        <!-- <a href=\"http://www.biblio-globus.ru/content.aspx?page_id=40\">карта проезда</a> -->\\n                        \\n                    </div>\\n                </td>\\n                <td valign=\"top\">\\n                    <div class=\"footer_part_2\">\\n                        Часы работы:\\n                        <br><br>\\n                        Будни: 9.00 - 21.00<br>\\n                        Выходные: 10.00 - 21.00<br>\\n                        Без перерыва.\\n                        <br><br>\\n                        <a href=\"http://www.biblio-globus.ru/content.aspx?page_id=103\">карта магазина</a>\\n                    </div>\\n                </td>\\n                <td valign=\"top\">\\n                    <div class=\"footer_part_3\">\\n                        Справки о наличии книг:\\n                        <br><br>\\n                        7 (495) 781-19-00<br>\\n                        7 (495) 624-46-80<br>\\n                        <br><br>\\n                        Интернет-магазин:<br>\\n                        <a href=\"http://www.bgshop.ru/\" target=\"_blank\">www.bgshop.ru</a><br>\\n\\t\\t\\t\\t\\t\\t<!--\\n\\t\\t\\t\\t\\t\\tПрием заказов на курьерскую доставку и самовывоз<br />\\n\\t\\t\\t\\t\\t\\tС 10.00-19.00<br />\\n\\t\\t\\t\\t\\t\\tтелефон Call-центра интернет-магазина:<br />(495)&nbsp;781-19-12&nbsp;доб.&nbsp;(2307;&nbsp;2348)\\n\\t\\t\\t\\t\\t\\t-->\\n\\t\\t\\t\\t\\t\\t\\n                    </div>\\n                </td>\\n            </tr>\\n        </tbody></table>\\n    </td>\\n    <!-- footer -->\\n</tr>\\n</tbody></table>\\n\\n\\n\\n<iframe src=\"https://c.sharethis.mgr.consensu.org/portal-v2.html\" id=\"st_gdpr_iframe\" title=\"GDPR Consent Management\" style=\"width: 0px; height: 0px; position: absolute; left: -5000px;\"></iframe></body></html>'"
      ]
     },
     "execution_count": 14,
     "metadata": {},
     "output_type": "execute_result"
    }
   ],
   "source": [
    "page1"
   ]
  },
  {
   "cell_type": "markdown",
   "metadata": {},
   "source": [
    "Теперь обработаем эту страницу через `BeautifulSoup`:"
   ]
  },
  {
   "cell_type": "code",
   "execution_count": 15,
   "metadata": {},
   "outputs": [],
   "source": [
    "from bs4 import BeautifulSoup"
   ]
  },
  {
   "cell_type": "code",
   "execution_count": 16,
   "metadata": {},
   "outputs": [],
   "source": [
    "soup1 = BeautifulSoup(page1, 'lxml')"
   ]
  },
  {
   "cell_type": "markdown",
   "metadata": {},
   "source": [
    "Найдем все названия книг на этой странице. По исходному коду можно увидеть, что они имеют тэг `a` с атрибутом `class`, равным `name`:"
   ]
  },
  {
   "cell_type": "code",
   "execution_count": 17,
   "metadata": {},
   "outputs": [
    {
     "data": {
      "text/plain": [
       "[<a class=\"name\" href=\"/search/catalog/details/10713630\">Python и наука о данных для чайников, 2-е издание</a>,\n",
       " <a class=\"name\" href=\"/search/catalog/details/10720510\">Для веб-программистов. Django 3.0. Практика создания веб-сайтов на Python</a>,\n",
       " <a class=\"name\" href=\"/search/catalog/details/10375126\">Python для детей : самоучитель по программированию</a>,\n",
       " <a class=\"name\" href=\"/search/catalog/details/10532193\">Python. Экспресс-курс</a>,\n",
       " <a class=\"name\" href=\"/search/catalog/details/10713628\">Python для программирования криптовалют</a>,\n",
       " <a class=\"name\" href=\"/search/catalog/details/10713629\">Прикладное машинное обучение без учителя с использованием Python</a>,\n",
       " <a class=\"name\" href=\"/search/catalog/details/10508455\">Простой Python. Современный стиль программирования</a>,\n",
       " <a class=\"name\" href=\"/search/catalog/details/10548788\">Python : Карманный справочник</a>,\n",
       " <a class=\"name\" href=\"/search/catalog/details/10634386\">Изучаем Python: программирование игр, визуализация данных, веб-приложения. </a>,\n",
       " <a class=\"name\" href=\"/search/catalog/details/10655159\">Учимся программировать с примерами на Python</a>]"
      ]
     },
     "execution_count": 17,
     "metadata": {},
     "output_type": "execute_result"
    }
   ],
   "source": [
    "soup1.find_all('a', {'class':'name'})"
   ]
  },
  {
   "cell_type": "markdown",
   "metadata": {},
   "source": [
    "С помощью списковых включений выберем из ссылок с тэгом `<a>` текст (так мы уже делали, и не раз)."
   ]
  },
  {
   "cell_type": "code",
   "execution_count": 18,
   "metadata": {},
   "outputs": [],
   "source": [
    "books1 = [b.text for b in soup1.find_all('a', {'class':'name'})]"
   ]
  },
  {
   "cell_type": "code",
   "execution_count": 19,
   "metadata": {},
   "outputs": [
    {
     "data": {
      "text/plain": [
       "['Python и наука о данных для чайников, 2-е издание',\n",
       " 'Для веб-программистов. Django 3.0. Практика создания веб-сайтов на Python',\n",
       " 'Python для детей : самоучитель по программированию',\n",
       " 'Python. Экспресс-курс',\n",
       " 'Python для программирования криптовалют',\n",
       " 'Прикладное машинное обучение без учителя с использованием Python',\n",
       " 'Простой Python. Современный стиль программирования',\n",
       " 'Python : Карманный справочник',\n",
       " 'Изучаем Python: программирование игр, визуализация данных, веб-приложения. ',\n",
       " 'Учимся программировать с примерами на Python']"
      ]
     },
     "execution_count": 19,
     "metadata": {},
     "output_type": "execute_result"
    }
   ],
   "source": [
    "books1"
   ]
  },
  {
   "cell_type": "markdown",
   "metadata": {},
   "source": [
    "Теперь аналогичным образом сгрузим информацию об авторах:"
   ]
  },
  {
   "cell_type": "code",
   "execution_count": 20,
   "metadata": {},
   "outputs": [],
   "source": [
    "authors1 = [a.text for a in soup1.find_all('div', {'class': 'author'})]"
   ]
  },
  {
   "cell_type": "markdown",
   "metadata": {},
   "source": [
    "Сгрузим расположение:"
   ]
  },
  {
   "cell_type": "code",
   "execution_count": 21,
   "metadata": {},
   "outputs": [],
   "source": [
    "place1 = [p.text for p in soup1.find_all('div', {'class':'placement'})]"
   ]
  },
  {
   "cell_type": "code",
   "execution_count": 22,
   "metadata": {},
   "outputs": [
    {
     "data": {
      "text/plain": [
       "['Расположение в торговом зале: Уровень 1, зал № 07, секция 08, шкаф 76, полка 04',\n",
       " 'Расположение в торговом зале: Уровень 1, зал № 07, секция 08, шкаф 76, полка 02',\n",
       " 'Расположение в торговом зале: Уровень 1, зал № 07, секция 08, шкаф 76, полка 06',\n",
       " 'Расположение в торговом зале: Уровень 1, зал № 07, секция 08, шкаф 76, полка 04',\n",
       " 'Расположение в торговом зале: Уровень 1, зал № 07, секция 08, шкаф 76, полка 05',\n",
       " 'Расположение в торговом зале: Уровень 1, зал № 07, секция 08, шкаф 85, полка 04',\n",
       " 'Расположение в торговом зале: Уровень 1, зал № 07, секция 08, шкаф 76, полка 03',\n",
       " 'Расположение в торговом зале: Уровень 1, зал № 07, секция 08, шкаф 76, полка 05',\n",
       " 'Расположение в торговом зале: Уровень 1, зал № 07, секция 08, шкаф 76, полка 06',\n",
       " 'Расположение в торговом зале: Уровень 1, зал № 07, секция 08, шкаф 76, полка 05']"
      ]
     },
     "execution_count": 22,
     "metadata": {},
     "output_type": "execute_result"
    }
   ],
   "source": [
    "place1"
   ]
  },
  {
   "cell_type": "markdown",
   "metadata": {},
   "source": [
    "И, конечно, цену:"
   ]
  },
  {
   "cell_type": "code",
   "execution_count": 23,
   "metadata": {},
   "outputs": [],
   "source": [
    "price1 = [p.text for p in soup1.find_all('div', \n",
    "                                         {'class':'title_data price'})]"
   ]
  },
  {
   "cell_type": "code",
   "execution_count": 24,
   "metadata": {},
   "outputs": [
    {
     "data": {
      "text/plain": [
       "['Цена: 1369,00 руб.',\n",
       " 'Цена: 1459,00 руб.',\n",
       " 'Цена: 1299,00 руб.',\n",
       " 'Цена: 1259,00 руб.',\n",
       " 'Цена: 1709,00 руб.',\n",
       " 'Цена: 2279,00 руб.',\n",
       " 'Цена: 1579,00 руб.',\n",
       " 'Цена: 689,00 руб.',\n",
       " 'Цена: 1559,00 руб.',\n",
       " 'Цена: 1709,00 руб.']"
      ]
     },
     "execution_count": 24,
     "metadata": {},
     "output_type": "execute_result"
    }
   ],
   "source": [
    "price1"
   ]
  },
  {
   "cell_type": "markdown",
   "metadata": {},
   "source": [
    "Осталось пройтись по всем страницам, которые были выданы в результате поиска. Для примера перейдем на страницу 2 и на этом остановимся."
   ]
  },
  {
   "cell_type": "code",
   "execution_count": 25,
   "metadata": {},
   "outputs": [],
   "source": [
    "next_p = br.find_element_by_css_selector('.next_page')"
   ]
  },
  {
   "cell_type": "code",
   "execution_count": 26,
   "metadata": {},
   "outputs": [],
   "source": [
    "next_p.click()"
   ]
  },
  {
   "cell_type": "markdown",
   "metadata": {},
   "source": [
    "Проделаем то же самое, что и с первой страницей. По-хорошему нужно написать функцию, которая будет искать на странице названия книг, их расположение и цену. Но оставим это в качестве задания читателю :)"
   ]
  },
  {
   "cell_type": "code",
   "execution_count": 27,
   "metadata": {},
   "outputs": [],
   "source": [
    "page2 = br.page_source\n",
    "soup2 = BeautifulSoup(page2, 'lxml')\n",
    "books2 = [b.text for b in soup2.find_all('a', {'class':'name'})]\n",
    "author2 = [a.text for a in soup2.find_all('div', {'class': 'author'})]\n",
    "place2 = [p.text for p in soup2.find_all('div', {'class':'placement'})]\n",
    "price2 = [p.text for p in soup2.find_all('div', {'class':'title_data price'})]"
   ]
  },
  {
   "cell_type": "markdown",
   "metadata": {},
   "source": [
    "Расширим списки результатов с первой страницы данными, полученными со второй страницы, используя метод `.extend()`."
   ]
  },
  {
   "cell_type": "code",
   "execution_count": 28,
   "metadata": {},
   "outputs": [],
   "source": [
    "books1.extend(books2)\n",
    "authors1.extend(books2)\n",
    "place1.extend(place2)\n",
    "price1.extend(price2)"
   ]
  },
  {
   "cell_type": "markdown",
   "metadata": {},
   "source": [
    "Осталось импортировать библиотеку `pandas` и создать датафрейм."
   ]
  },
  {
   "cell_type": "code",
   "execution_count": 29,
   "metadata": {},
   "outputs": [],
   "source": [
    "import pandas as pd"
   ]
  },
  {
   "cell_type": "markdown",
   "metadata": {},
   "source": [
    "Для разнообразия создадим датафрейм не из списка списков, а из словаря. Ключами словаря будут названия столбцов в таблице, а значениями – списки с сохраненной информацией (названия книг, цены и проч.)."
   ]
  },
  {
   "cell_type": "code",
   "execution_count": 30,
   "metadata": {},
   "outputs": [],
   "source": [
    "df = pd.DataFrame({'book': books1, 'author': authors1,\n",
    "                   'placement': place1, 'price': price1})"
   ]
  },
  {
   "cell_type": "code",
   "execution_count": 31,
   "metadata": {},
   "outputs": [
    {
     "data": {
      "text/html": [
       "<div>\n",
       "<style scoped>\n",
       "    .dataframe tbody tr th:only-of-type {\n",
       "        vertical-align: middle;\n",
       "    }\n",
       "\n",
       "    .dataframe tbody tr th {\n",
       "        vertical-align: top;\n",
       "    }\n",
       "\n",
       "    .dataframe thead th {\n",
       "        text-align: right;\n",
       "    }\n",
       "</style>\n",
       "<table border=\"1\" class=\"dataframe\">\n",
       "  <thead>\n",
       "    <tr style=\"text-align: right;\">\n",
       "      <th></th>\n",
       "      <th>book</th>\n",
       "      <th>author</th>\n",
       "      <th>placement</th>\n",
       "      <th>price</th>\n",
       "    </tr>\n",
       "  </thead>\n",
       "  <tbody>\n",
       "    <tr>\n",
       "      <th>0</th>\n",
       "      <td>Python и наука о данных для чайников, 2-е издание</td>\n",
       "      <td>Мюллер , Массарон Дж. П. , Л.</td>\n",
       "      <td>Расположение в торговом зале: Уровень 1, зал №...</td>\n",
       "      <td>Цена: 1369,00 руб.</td>\n",
       "    </tr>\n",
       "    <tr>\n",
       "      <th>1</th>\n",
       "      <td>Для веб-программистов. Django 3.0. Практика со...</td>\n",
       "      <td>В. А. Дронов</td>\n",
       "      <td>Расположение в торговом зале: Уровень 1, зал №...</td>\n",
       "      <td>Цена: 1459,00 руб.</td>\n",
       "    </tr>\n",
       "    <tr>\n",
       "      <th>2</th>\n",
       "      <td>Python для детей : самоучитель по программиров...</td>\n",
       "      <td>Дж. Бриггс</td>\n",
       "      <td>Расположение в торговом зале: Уровень 1, зал №...</td>\n",
       "      <td>Цена: 1299,00 руб.</td>\n",
       "    </tr>\n",
       "    <tr>\n",
       "      <th>3</th>\n",
       "      <td>Python. Экспресс-курс</td>\n",
       "      <td>Н. Седер</td>\n",
       "      <td>Расположение в торговом зале: Уровень 1, зал №...</td>\n",
       "      <td>Цена: 1259,00 руб.</td>\n",
       "    </tr>\n",
       "    <tr>\n",
       "      <th>4</th>\n",
       "      <td>Python для программирования криптовалют</td>\n",
       "      <td>Сонг Дж.</td>\n",
       "      <td>Расположение в торговом зале: Уровень 1, зал №...</td>\n",
       "      <td>Цена: 1709,00 руб.</td>\n",
       "    </tr>\n",
       "  </tbody>\n",
       "</table>\n",
       "</div>"
      ],
      "text/plain": [
       "                                                book  \\\n",
       "0  Python и наука о данных для чайников, 2-е издание   \n",
       "1  Для веб-программистов. Django 3.0. Практика со...   \n",
       "2  Python для детей : самоучитель по программиров...   \n",
       "3                              Python. Экспресс-курс   \n",
       "4            Python для программирования криптовалют   \n",
       "\n",
       "                          author  \\\n",
       "0  Мюллер , Массарон Дж. П. , Л.   \n",
       "1                   В. А. Дронов   \n",
       "2                     Дж. Бриггс   \n",
       "3                       Н. Седер   \n",
       "4                       Сонг Дж.   \n",
       "\n",
       "                                           placement               price  \n",
       "0  Расположение в торговом зале: Уровень 1, зал №...  Цена: 1369,00 руб.  \n",
       "1  Расположение в торговом зале: Уровень 1, зал №...  Цена: 1459,00 руб.  \n",
       "2  Расположение в торговом зале: Уровень 1, зал №...  Цена: 1299,00 руб.  \n",
       "3  Расположение в торговом зале: Уровень 1, зал №...  Цена: 1259,00 руб.  \n",
       "4  Расположение в торговом зале: Уровень 1, зал №...  Цена: 1709,00 руб.  "
      ]
     },
     "execution_count": 31,
     "metadata": {},
     "output_type": "execute_result"
    }
   ],
   "source": [
    "df.head()"
   ]
  },
  {
   "cell_type": "markdown",
   "metadata": {},
   "source": [
    "Давайте приведем столбец с ценой к числовому типу. Уберем слова *Цена* и *руб*, а потом сконвертируем строки в числа с плавающей точкой. Напишем функцию `get_price()`,"
   ]
  },
  {
   "cell_type": "code",
   "execution_count": 38,
   "metadata": {},
   "outputs": [],
   "source": [
    "def get_price(price):\n",
    "    book_price = price.split(' ')[1]  # разобьем строку по пробелу и возьмем второй элемент\n",
    "    book_price = book_price.replace(',', '.')  # заменим запятую на точку\n",
    "    price_num = float(book_price)  # сконвертируем в float\n",
    "    return price_num"
   ]
  },
  {
   "cell_type": "code",
   "execution_count": 39,
   "metadata": {},
   "outputs": [
    {
     "data": {
      "text/plain": [
       "2769.0"
      ]
     },
     "execution_count": 39,
     "metadata": {},
     "output_type": "execute_result"
    }
   ],
   "source": [
    "# проверка\n",
    "get_price(df.price[0])"
   ]
  },
  {
   "cell_type": "markdown",
   "metadata": {},
   "source": [
    "Всё отлично работает! Применим функцию к столбцу *price* и создадим новый столбец *nprice*."
   ]
  },
  {
   "cell_type": "code",
   "execution_count": 40,
   "metadata": {},
   "outputs": [],
   "source": [
    "df['nprice'] = df.price.apply(get_price)"
   ]
  },
  {
   "cell_type": "code",
   "execution_count": 41,
   "metadata": {},
   "outputs": [
    {
     "data": {
      "text/html": [
       "<div>\n",
       "<style scoped>\n",
       "    .dataframe tbody tr th:only-of-type {\n",
       "        vertical-align: middle;\n",
       "    }\n",
       "\n",
       "    .dataframe tbody tr th {\n",
       "        vertical-align: top;\n",
       "    }\n",
       "\n",
       "    .dataframe thead th {\n",
       "        text-align: right;\n",
       "    }\n",
       "</style>\n",
       "<table border=\"1\" class=\"dataframe\">\n",
       "  <thead>\n",
       "    <tr style=\"text-align: right;\">\n",
       "      <th></th>\n",
       "      <th>book</th>\n",
       "      <th>author</th>\n",
       "      <th>placement</th>\n",
       "      <th>price</th>\n",
       "      <th>nprice</th>\n",
       "    </tr>\n",
       "  </thead>\n",
       "  <tbody>\n",
       "    <tr>\n",
       "      <th>0</th>\n",
       "      <td>Изучаем Python, том 2,</td>\n",
       "      <td>М.Лутц</td>\n",
       "      <td>Расположение в торговом зале: Уровень 1, зал №...</td>\n",
       "      <td>Цена: 2769,00 руб.</td>\n",
       "      <td>2769.0</td>\n",
       "    </tr>\n",
       "    <tr>\n",
       "      <th>1</th>\n",
       "      <td>Сумка-шоппер ErichKrause® 10L Python Print</td>\n",
       "      <td></td>\n",
       "      <td>Расположение в торговом зале: Уровень 1, зал №...</td>\n",
       "      <td>Цена: 419,00 руб.</td>\n",
       "      <td>419.0</td>\n",
       "    </tr>\n",
       "    <tr>\n",
       "      <th>2</th>\n",
       "      <td>Изучаем Python, том 1</td>\n",
       "      <td>М.  Лутц</td>\n",
       "      <td>Расположение в торговом зале: Уровень 1, зал №...</td>\n",
       "      <td>Цена: 2769,00 руб.</td>\n",
       "      <td>2769.0</td>\n",
       "    </tr>\n",
       "    <tr>\n",
       "      <th>3</th>\n",
       "      <td>Изучаем программирование на Python</td>\n",
       "      <td>П. Бэрри</td>\n",
       "      <td>Расположение в торговом зале: Уровень 1, зал №...</td>\n",
       "      <td>Цена: 1359,00 руб.</td>\n",
       "      <td>1359.0</td>\n",
       "    </tr>\n",
       "    <tr>\n",
       "      <th>4</th>\n",
       "      <td>Простой Python. Современный стиль программиров...</td>\n",
       "      <td>Б. Любанович</td>\n",
       "      <td>Расположение в торговом зале: Уровень 1, зал №...</td>\n",
       "      <td>Цена: 1529,00 руб.</td>\n",
       "      <td>1529.0</td>\n",
       "    </tr>\n",
       "  </tbody>\n",
       "</table>\n",
       "</div>"
      ],
      "text/plain": [
       "                                                book        author  \\\n",
       "0                             Изучаем Python, том 2,        М.Лутц   \n",
       "1         Сумка-шоппер ErichKrause® 10L Python Print                 \n",
       "2                              Изучаем Python, том 1      М.  Лутц   \n",
       "3                 Изучаем программирование на Python      П. Бэрри   \n",
       "4  Простой Python. Современный стиль программиров...  Б. Любанович   \n",
       "\n",
       "                                           placement               price  \\\n",
       "0  Расположение в торговом зале: Уровень 1, зал №...  Цена: 2769,00 руб.   \n",
       "1  Расположение в торговом зале: Уровень 1, зал №...   Цена: 419,00 руб.   \n",
       "2  Расположение в торговом зале: Уровень 1, зал №...  Цена: 2769,00 руб.   \n",
       "3  Расположение в торговом зале: Уровень 1, зал №...  Цена: 1359,00 руб.   \n",
       "4  Расположение в торговом зале: Уровень 1, зал №...  Цена: 1529,00 руб.   \n",
       "\n",
       "   nprice  \n",
       "0  2769.0  \n",
       "1   419.0  \n",
       "2  2769.0  \n",
       "3  1359.0  \n",
       "4  1529.0  "
      ]
     },
     "execution_count": 41,
     "metadata": {},
     "output_type": "execute_result"
    }
   ],
   "source": [
    "df.head()"
   ]
  },
  {
   "cell_type": "markdown",
   "metadata": {},
   "source": [
    "Теперь можем расположить книги по цене в порядке возрастания:"
   ]
  },
  {
   "cell_type": "code",
   "execution_count": 35,
   "metadata": {},
   "outputs": [
    {
     "data": {
      "text/html": [
       "<div>\n",
       "<style scoped>\n",
       "    .dataframe tbody tr th:only-of-type {\n",
       "        vertical-align: middle;\n",
       "    }\n",
       "\n",
       "    .dataframe tbody tr th {\n",
       "        vertical-align: top;\n",
       "    }\n",
       "\n",
       "    .dataframe thead th {\n",
       "        text-align: right;\n",
       "    }\n",
       "</style>\n",
       "<table border=\"1\" class=\"dataframe\">\n",
       "  <thead>\n",
       "    <tr style=\"text-align: right;\">\n",
       "      <th></th>\n",
       "      <th>book</th>\n",
       "      <th>author</th>\n",
       "      <th>placement</th>\n",
       "      <th>price</th>\n",
       "      <th>nprice</th>\n",
       "    </tr>\n",
       "  </thead>\n",
       "  <tbody>\n",
       "    <tr>\n",
       "      <th>7</th>\n",
       "      <td>Программирование на Python для начинающих</td>\n",
       "      <td>М. МакГрат</td>\n",
       "      <td>Расположение в торговом зале: Уровень 1, зал №...</td>\n",
       "      <td>Цена: 579,00 руб.</td>\n",
       "      <td>579.0</td>\n",
       "    </tr>\n",
       "    <tr>\n",
       "      <th>16</th>\n",
       "      <td>Легкий способ выучить Python</td>\n",
       "      <td>Легкий способ выучить Python</td>\n",
       "      <td>Расположение в торговом зале: Уровень 1, зал №...</td>\n",
       "      <td>Цена: 699,00 руб.</td>\n",
       "      <td>699.0</td>\n",
       "    </tr>\n",
       "    <tr>\n",
       "      <th>10</th>\n",
       "      <td>Легкий способ выучить Python 3</td>\n",
       "      <td>Легкий способ выучить Python 3</td>\n",
       "      <td>Расположение в торговом зале: Уровень 1, зал №...</td>\n",
       "      <td>Цена: 739,00 руб.</td>\n",
       "      <td>739.0</td>\n",
       "    </tr>\n",
       "    <tr>\n",
       "      <th>17</th>\n",
       "      <td>Язык программирования Python: практикум</td>\n",
       "      <td>Язык программирования Python: практикум</td>\n",
       "      <td>Расположение в торговом зале: Уровень 1, зал №...</td>\n",
       "      <td>Цена: 779,00 руб.</td>\n",
       "      <td>779.0</td>\n",
       "    </tr>\n",
       "    <tr>\n",
       "      <th>4</th>\n",
       "      <td>Основы программирования на языке Python</td>\n",
       "      <td>Д. М. Златопольский</td>\n",
       "      <td>Расположение в торговом зале: Уровень 1, зал №...</td>\n",
       "      <td>Цена: 839,00 руб.</td>\n",
       "      <td>839.0</td>\n",
       "    </tr>\n",
       "    <tr>\n",
       "      <th>1</th>\n",
       "      <td>Машинное обучение с использованием Python. Сбо...</td>\n",
       "      <td>К. Элбон</td>\n",
       "      <td>Расположение в торговом зале: Уровень 1, зал №...</td>\n",
       "      <td>Цена: 879,00 руб.</td>\n",
       "      <td>879.0</td>\n",
       "    </tr>\n",
       "    <tr>\n",
       "      <th>5</th>\n",
       "      <td>Python для детей : самоучитель по программиров...</td>\n",
       "      <td>Дж. Бриггс</td>\n",
       "      <td>Расположение в торговом зале: Уровень 1, зал №...</td>\n",
       "      <td>Цена: 1029,00 руб.</td>\n",
       "      <td>1029.0</td>\n",
       "    </tr>\n",
       "    <tr>\n",
       "      <th>19</th>\n",
       "      <td>Как устроен Python. Гид для разработчиков, про...</td>\n",
       "      <td>Как устроен Python. Гид для разработчиков, про...</td>\n",
       "      <td>Расположение в торговом зале: Уровень 1, зал №...</td>\n",
       "      <td>Цена: 1089,00 руб.</td>\n",
       "      <td>1089.0</td>\n",
       "    </tr>\n",
       "    <tr>\n",
       "      <th>0</th>\n",
       "      <td>Секреты Python: 59 рекомендаций по написанию э...</td>\n",
       "      <td>Б. Слаткин</td>\n",
       "      <td>Расположение в торговом зале: Уровень 1, зал №...</td>\n",
       "      <td>Цена: 1129,00 руб.</td>\n",
       "      <td>1129.0</td>\n",
       "    </tr>\n",
       "    <tr>\n",
       "      <th>8</th>\n",
       "      <td>Классические задачи Computer Science на языке ...</td>\n",
       "      <td>Д. Копец</td>\n",
       "      <td>Расположение в торговом зале: Уровень 1, зал №...</td>\n",
       "      <td>Цена: 1219,00 руб.</td>\n",
       "      <td>1219.0</td>\n",
       "    </tr>\n",
       "    <tr>\n",
       "      <th>13</th>\n",
       "      <td>Глубокое обучение на Python</td>\n",
       "      <td>Глубокое обучение на Python</td>\n",
       "      <td>Расположение в торговом зале: Уровень 1, зал №...</td>\n",
       "      <td>Цена: 1229,00 руб.</td>\n",
       "      <td>1229.0</td>\n",
       "    </tr>\n",
       "    <tr>\n",
       "      <th>11</th>\n",
       "      <td>Прикладной анализ текстовых данных на Python. ...</td>\n",
       "      <td>Прикладной анализ текстовых данных на Python. ...</td>\n",
       "      <td>Расположение в торговом зале: Уровень 1, зал №...</td>\n",
       "      <td>Цена: 1309,00 руб.</td>\n",
       "      <td>1309.0</td>\n",
       "    </tr>\n",
       "    <tr>\n",
       "      <th>18</th>\n",
       "      <td>Django 2.1. Практика создания веб-сайтов на Py...</td>\n",
       "      <td>Django 2.1. Практика создания веб-сайтов на Py...</td>\n",
       "      <td>Расположение в торговом зале: Уровень 1, зал №...</td>\n",
       "      <td>Цена: 1389,00 руб.</td>\n",
       "      <td>1389.0</td>\n",
       "    </tr>\n",
       "    <tr>\n",
       "      <th>2</th>\n",
       "      <td>Глубокое обучение и TensorFlow для профессиона...</td>\n",
       "      <td>С. Паттанаяк</td>\n",
       "      <td>Расположение в торговом зале: Уровень 1, зал №...</td>\n",
       "      <td>Цена: 1409,00 руб.</td>\n",
       "      <td>1409.0</td>\n",
       "    </tr>\n",
       "    <tr>\n",
       "      <th>12</th>\n",
       "      <td>Python 3 и PyQt 5. Разработка приложений</td>\n",
       "      <td>Python 3 и PyQt 5. Разработка приложений</td>\n",
       "      <td>Расположение в торговом зале: Уровень 1, зал №...</td>\n",
       "      <td>Цена: 1539,00 руб.</td>\n",
       "      <td>1539.0</td>\n",
       "    </tr>\n",
       "    <tr>\n",
       "      <th>15</th>\n",
       "      <td>Python для сложных задач: наука о данных и маш...</td>\n",
       "      <td>Python для сложных задач: наука о данных и маш...</td>\n",
       "      <td>Расположение в торговом зале: Уровень 1, зал №...</td>\n",
       "      <td>Цена: 1749,00 руб.</td>\n",
       "      <td>1749.0</td>\n",
       "    </tr>\n",
       "    <tr>\n",
       "      <th>6</th>\n",
       "      <td>Программирование на языке Python</td>\n",
       "      <td>Р. Седжвик</td>\n",
       "      <td>Расположение в торговом зале: Уровень 1, зал №...</td>\n",
       "      <td>Цена: 1879,00 руб.</td>\n",
       "      <td>1879.0</td>\n",
       "    </tr>\n",
       "    <tr>\n",
       "      <th>14</th>\n",
       "      <td>Python. Справочник. Полное описание языка</td>\n",
       "      <td>Python. Справочник. Полное описание языка</td>\n",
       "      <td>Расположение в торговом зале: Уровень 1, зал №...</td>\n",
       "      <td>Цена: 2349,00 руб.</td>\n",
       "      <td>2349.0</td>\n",
       "    </tr>\n",
       "    <tr>\n",
       "      <th>9</th>\n",
       "      <td>Python и машинное обучение: машинное и глубоко...</td>\n",
       "      <td>С. Рашка, В. Мирджалили</td>\n",
       "      <td>Расположение в торговом зале: Уровень 1, зал №...</td>\n",
       "      <td>Цена: 2349,00 руб.</td>\n",
       "      <td>2349.0</td>\n",
       "    </tr>\n",
       "    <tr>\n",
       "      <th>3</th>\n",
       "      <td>Стандартная библиотека Python 3</td>\n",
       "      <td>Д. Хеллман</td>\n",
       "      <td>Расположение в торговом зале: Уровень 1, зал №...</td>\n",
       "      <td>Цена: 2819,00 руб.</td>\n",
       "      <td>2819.0</td>\n",
       "    </tr>\n",
       "  </tbody>\n",
       "</table>\n",
       "</div>"
      ],
      "text/plain": [
       "                                                 book  \\\n",
       "7           Программирование на Python для начинающих   \n",
       "16                       Легкий способ выучить Python   \n",
       "10                     Легкий способ выучить Python 3   \n",
       "17            Язык программирования Python: практикум   \n",
       "4             Основы программирования на языке Python   \n",
       "1   Машинное обучение с использованием Python. Сбо...   \n",
       "5   Python для детей : самоучитель по программиров...   \n",
       "19  Как устроен Python. Гид для разработчиков, про...   \n",
       "0   Секреты Python: 59 рекомендаций по написанию э...   \n",
       "8   Классические задачи Computer Science на языке ...   \n",
       "13                        Глубокое обучение на Python   \n",
       "11  Прикладной анализ текстовых данных на Python. ...   \n",
       "18  Django 2.1. Практика создания веб-сайтов на Py...   \n",
       "2   Глубокое обучение и TensorFlow для профессиона...   \n",
       "12           Python 3 и PyQt 5. Разработка приложений   \n",
       "15  Python для сложных задач: наука о данных и маш...   \n",
       "6                    Программирование на языке Python   \n",
       "14          Python. Справочник. Полное описание языка   \n",
       "9   Python и машинное обучение: машинное и глубоко...   \n",
       "3                     Стандартная библиотека Python 3   \n",
       "\n",
       "                                               author  \\\n",
       "7                                          М. МакГрат   \n",
       "16                       Легкий способ выучить Python   \n",
       "10                     Легкий способ выучить Python 3   \n",
       "17            Язык программирования Python: практикум   \n",
       "4                                 Д. М. Златопольский   \n",
       "1                                            К. Элбон   \n",
       "5                                          Дж. Бриггс   \n",
       "19  Как устроен Python. Гид для разработчиков, про...   \n",
       "0                                          Б. Слаткин   \n",
       "8                                            Д. Копец   \n",
       "13                        Глубокое обучение на Python   \n",
       "11  Прикладной анализ текстовых данных на Python. ...   \n",
       "18  Django 2.1. Практика создания веб-сайтов на Py...   \n",
       "2                                        С. Паттанаяк   \n",
       "12           Python 3 и PyQt 5. Разработка приложений   \n",
       "15  Python для сложных задач: наука о данных и маш...   \n",
       "6                                          Р. Седжвик   \n",
       "14          Python. Справочник. Полное описание языка   \n",
       "9                             С. Рашка, В. Мирджалили   \n",
       "3                                          Д. Хеллман   \n",
       "\n",
       "                                            placement               price  \\\n",
       "7   Расположение в торговом зале: Уровень 1, зал №...   Цена: 579,00 руб.   \n",
       "16  Расположение в торговом зале: Уровень 1, зал №...   Цена: 699,00 руб.   \n",
       "10  Расположение в торговом зале: Уровень 1, зал №...   Цена: 739,00 руб.   \n",
       "17  Расположение в торговом зале: Уровень 1, зал №...   Цена: 779,00 руб.   \n",
       "4   Расположение в торговом зале: Уровень 1, зал №...   Цена: 839,00 руб.   \n",
       "1   Расположение в торговом зале: Уровень 1, зал №...   Цена: 879,00 руб.   \n",
       "5   Расположение в торговом зале: Уровень 1, зал №...  Цена: 1029,00 руб.   \n",
       "19  Расположение в торговом зале: Уровень 1, зал №...  Цена: 1089,00 руб.   \n",
       "0   Расположение в торговом зале: Уровень 1, зал №...  Цена: 1129,00 руб.   \n",
       "8   Расположение в торговом зале: Уровень 1, зал №...  Цена: 1219,00 руб.   \n",
       "13  Расположение в торговом зале: Уровень 1, зал №...  Цена: 1229,00 руб.   \n",
       "11  Расположение в торговом зале: Уровень 1, зал №...  Цена: 1309,00 руб.   \n",
       "18  Расположение в торговом зале: Уровень 1, зал №...  Цена: 1389,00 руб.   \n",
       "2   Расположение в торговом зале: Уровень 1, зал №...  Цена: 1409,00 руб.   \n",
       "12  Расположение в торговом зале: Уровень 1, зал №...  Цена: 1539,00 руб.   \n",
       "15  Расположение в торговом зале: Уровень 1, зал №...  Цена: 1749,00 руб.   \n",
       "6   Расположение в торговом зале: Уровень 1, зал №...  Цена: 1879,00 руб.   \n",
       "14  Расположение в торговом зале: Уровень 1, зал №...  Цена: 2349,00 руб.   \n",
       "9   Расположение в торговом зале: Уровень 1, зал №...  Цена: 2349,00 руб.   \n",
       "3   Расположение в торговом зале: Уровень 1, зал №...  Цена: 2819,00 руб.   \n",
       "\n",
       "    nprice  \n",
       "7    579.0  \n",
       "16   699.0  \n",
       "10   739.0  \n",
       "17   779.0  \n",
       "4    839.0  \n",
       "1    879.0  \n",
       "5   1029.0  \n",
       "19  1089.0  \n",
       "0   1129.0  \n",
       "8   1219.0  \n",
       "13  1229.0  \n",
       "11  1309.0  \n",
       "18  1389.0  \n",
       "2   1409.0  \n",
       "12  1539.0  \n",
       "15  1749.0  \n",
       "6   1879.0  \n",
       "14  2349.0  \n",
       "9   2349.0  \n",
       "3   2819.0  "
      ]
     },
     "execution_count": 35,
     "metadata": {},
     "output_type": "execute_result"
    }
   ],
   "source": [
    "df.sort_values('nprice')"
   ]
  },
  {
   "cell_type": "markdown",
   "metadata": {},
   "source": [
    "И сохраним всю таблицу в csv-файл:"
   ]
  },
  {
   "cell_type": "code",
   "execution_count": 42,
   "metadata": {},
   "outputs": [],
   "source": [
    "df.to_csv(\"books.csv\")"
   ]
  }
 ],
 "metadata": {
  "kernelspec": {
   "display_name": "Python 3",
   "language": "python",
   "name": "python3"
  },
  "language_info": {
   "codemirror_mode": {
    "name": "ipython",
    "version": 3
   },
   "file_extension": ".py",
   "mimetype": "text/x-python",
   "name": "python",
   "nbconvert_exporter": "python",
   "pygments_lexer": "ipython3",
   "version": "3.6.5"
  }
 },
 "nbformat": 4,
 "nbformat_minor": 2
}
